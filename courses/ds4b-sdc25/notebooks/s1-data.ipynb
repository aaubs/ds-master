{
 "cells": [
  {
   "cell_type": "markdown",
   "metadata": {},
   "source": [
    "<a href=\"https://colab.research.google.com/github/aaubs/ds-master/blob/main/courses/ds4b-sdc25-1-intro/notebooks/s1-data.ipynb\" target=\"_parent\"><img src=\"https://colab.research.google.com/assets/colab-badge.svg\" alt=\"Open In Colab\"/></a>"
   ]
  },
  {
   "cell_type": "markdown",
   "metadata": {
    "id": "KtbkJ9BibahG"
   },
   "source": [
    "# Preface\n",
    "\n",
    "## Why Python?\n",
    "1. General purpose language - add what you need\n",
    "2. Portable (Linux, Windows, Mac)\n",
    "3. Interactive\n",
    "4. Free\n",
    "5. Community and eco-system\n",
    "6. Easy to use\n",
    "\n",
    "## Working with Python\n",
    "Workflows - many - find your own! In this course - Jupyter notebook and Pandas:\n",
    "* Python + Jupyter notebook + Pandas = A complete environment\n",
    "* Interactive\n",
    "* Encourage an iterative work process (research?)\n",
    "* Documentation, code and visualization in one - literate programming\n",
    "* Reproducing results and figures"
   ]
  },
  {
   "cell_type": "markdown",
   "metadata": {
    "id": "kvEzWWOdfD3L"
   },
   "source": [
    "# Introduction\n",
    "\n",
    "In this session, you will learn the basic Python syntax for data manipulation & analysis, including:\n",
    "\n",
    "1. General syntax\n",
    "2. basic operations\n",
    "3. Object & data types\n",
    "4. Flow controls\n",
    "\n",
    "\n"
   ]
  },
  {
   "cell_type": "code",
   "execution_count": null,
   "metadata": {
    "id": "1IFxzzzd-hRl"
   },
   "outputs": [],
   "source": [
    "import numpy as np # Basic library for all kind of numerical operations\n",
    "import pandas as pd # Basic library for data manipulation in dataframes"
   ]
  },
  {
   "cell_type": "markdown",
   "metadata": {
    "id": "f_alePJD__y2"
   },
   "source": [
    "# Basics"
   ]
  },
  {
   "cell_type": "markdown",
   "metadata": {
    "id": "lQn7xy7NcN_X"
   },
   "source": [
    "## The very basics"
   ]
  },
  {
   "cell_type": "code",
   "execution_count": null,
   "metadata": {
    "colab": {
     "base_uri": "https://localhost:8080/"
    },
    "id": "7kIK1Mvmc1c8",
    "outputId": "7d43e00b-daf0-4afc-a48e-2f6c779e8ff7"
   },
   "outputs": [],
   "source": [
    "# Running a cell (Ctrl-Enter, Shift-Enter)\n",
    "print('Hello world')"
   ]
  },
  {
   "cell_type": "markdown",
   "metadata": {
    "id": "2RSD1OrvgrX7"
   },
   "source": [
    "## Variables"
   ]
  },
  {
   "cell_type": "code",
   "execution_count": null,
   "metadata": {
    "colab": {
     "base_uri": "https://localhost:8080/"
    },
    "id": "ArYdCkfFgowf",
    "outputId": "c07df037-c635-4531-8af6-604daec84285"
   },
   "outputs": [],
   "source": [
    "i = 6\n",
    "print(i, type(i))"
   ]
  },
  {
   "cell_type": "code",
   "execution_count": null,
   "metadata": {
    "colab": {
     "base_uri": "https://localhost:8080/"
    },
    "id": "vhpLs-tcgtgo",
    "outputId": "556becbd-6901-4a02-e871-a0220d00ceaf"
   },
   "outputs": [],
   "source": [
    "x = 3.2\n",
    "print(x, type(x))"
   ]
  },
  {
   "cell_type": "code",
   "execution_count": null,
   "metadata": {
    "colab": {
     "base_uri": "https://localhost:8080/"
    },
    "id": "NN6XM_vogtua",
    "outputId": "ea39d4da-79e9-4132-a460-828df755b2e8"
   },
   "outputs": [],
   "source": [
    "s = 'Hello'\n",
    "print(s, type(s))"
   ]
  },
  {
   "cell_type": "code",
   "execution_count": null,
   "metadata": {},
   "outputs": [],
   "source": [
    "t = 5 == 6\n",
    "print(t, type(t))"
   ]
  },
  {
   "cell_type": "markdown",
   "metadata": {},
   "source": [
    "In python, we have different **types of variables**. The most common are **integers (int)**, **floats (float)**, **strings (str)** and **booleans (bool)**. Above we have assigned values to variables i, x, s and t. We can check the type of a variable using the function **type()**."
   ]
  },
  {
   "cell_type": "markdown",
   "metadata": {
    "id": "SA_-aL_zADsC"
   },
   "source": [
    "## Value assignment & evaluation"
   ]
  },
  {
   "cell_type": "code",
   "execution_count": null,
   "metadata": {
    "colab": {
     "base_uri": "https://localhost:8080/"
    },
    "id": "0-t9pGVUAKjU",
    "outputId": "cf278d62-715c-4382-cd12-644f599f7361"
   },
   "outputs": [],
   "source": [
    "x = 3         # Assignment\n",
    "print('We asigned x the value of ', x , '!')              # Evaluate the expression and print result"
   ]
  },
  {
   "cell_type": "code",
   "execution_count": null,
   "metadata": {
    "colab": {
     "base_uri": "https://localhost:8080/"
    },
    "id": "pu7VxewCAYHg",
    "outputId": "e4ab7ff8-7032-4802-9997-3e160d8b2fda"
   },
   "outputs": [],
   "source": [
    "y = 4         # Assignment\n",
    "y + 5         # Evaluation, y remains 4"
   ]
  },
  {
   "cell_type": "code",
   "execution_count": null,
   "metadata": {
    "colab": {
     "base_uri": "https://localhost:8080/"
    },
    "id": "TCMZxZIHAf66",
    "outputId": "6d3e6de8-bc6c-48bc-bfb5-c9c29e7790c1"
   },
   "outputs": [],
   "source": [
    "z = x + 2*y  # Assignment\n",
    "z             # Evaluation"
   ]
  },
  {
   "cell_type": "code",
   "execution_count": null,
   "metadata": {},
   "outputs": [],
   "source": [
    "a=2"
   ]
  },
  {
   "cell_type": "code",
   "execution_count": null,
   "metadata": {
    "colab": {
     "base_uri": "https://localhost:8080/"
    },
    "id": "VTOQsI726_3t",
    "outputId": "8009a1f2-90ab-4aec-b6b4-4d9c2a0e7ae1"
   },
   "outputs": [],
   "source": [
    "# basic mathematical operations\n",
    "print(x+y, x*y, x-y, x/y, a**2, x+y**2, (x+y)**2)"
   ]
  },
  {
   "cell_type": "markdown",
   "metadata": {
    "id": "VGcSo_VAA0qZ"
   },
   "source": [
    "## Value comparison\n",
    "\n",
    "Comparisons return boolean values: True or False"
   ]
  },
  {
   "cell_type": "code",
   "execution_count": null,
   "metadata": {
    "colab": {
     "base_uri": "https://localhost:8080/"
    },
    "id": "d3Yl4nGYA3wB",
    "outputId": "4f54c56d-5b7d-4c24-cc39-c29e5c40a636"
   },
   "outputs": [],
   "source": [
    "2==2  # Equality"
   ]
  },
  {
   "cell_type": "code",
   "execution_count": null,
   "metadata": {
    "colab": {
     "base_uri": "https://localhost:8080/"
    },
    "id": "1qJE0LBoBPX1",
    "outputId": "143ed944-f3e9-4654-eebd-4fd6cabf2cdb"
   },
   "outputs": [],
   "source": [
    "2!=2  # Inequality"
   ]
  },
  {
   "cell_type": "code",
   "execution_count": null,
   "metadata": {
    "colab": {
     "base_uri": "https://localhost:8080/"
    },
    "id": "3wi-1BnuBSPa",
    "outputId": "fbe8f3d0-6095-48ed-c10b-6b49367655b4"
   },
   "outputs": [],
   "source": [
    "x <= y # less than or equal: \"<\", \">\", and \">=\" also work"
   ]
  },
  {
   "cell_type": "code",
   "execution_count": null,
   "metadata": {
    "colab": {
     "base_uri": "https://localhost:8080/"
    },
    "id": "P89TgvrPBWxe",
    "outputId": "ce8c9b98-cd74-4aa5-e9cc-9cda2a1fa3da"
   },
   "outputs": [],
   "source": [
    "(x | z) >= y # OR"
   ]
  },
  {
   "cell_type": "code",
   "execution_count": null,
   "metadata": {
    "colab": {
     "base_uri": "https://localhost:8080/"
    },
    "id": "vMqgnfb6BjpJ",
    "outputId": "b415d655-55d0-4446-ad65-37ddb86a7b6d"
   },
   "outputs": [],
   "source": [
    "(x & z) >= y # AND"
   ]
  },
  {
   "cell_type": "code",
   "execution_count": null,
   "metadata": {
    "colab": {
     "base_uri": "https://localhost:8080/"
    },
    "id": "vuN5mzJF7jwI",
    "outputId": "caff30a8-14bf-48f3-b843-ca3af71ab6a2"
   },
   "outputs": [],
   "source": [
    "x + z / 50 < y"
   ]
  },
  {
   "cell_type": "markdown",
   "metadata": {
    "id": "xhOIe6OBFRGq"
   },
   "source": [
    "## Special Constraints, NA, NaN, Inf"
   ]
  },
  {
   "cell_type": "code",
   "execution_count": null,
   "metadata": {
    "colab": {
     "base_uri": "https://localhost:8080/"
    },
    "id": "GXqrpWifFYHE",
    "outputId": "e5c0b34f-f5a6-474e-8539-fe3a25a9a8f9"
   },
   "outputs": [],
   "source": [
    "print([1, None, 3])"
   ]
  },
  {
   "cell_type": "markdown",
   "metadata": {
    "id": "0rI1htgCdFeE"
   },
   "source": [
    "## Importing\n",
    "We need to import libraries or only parts of libraries all the time. Use name-conventions when doing so"
   ]
  },
  {
   "cell_type": "code",
   "execution_count": null,
   "metadata": {
    "id": "pUb54cSJdYSN"
   },
   "outputs": [],
   "source": [
    "# https://docs.python.org/3/library/math.html\n",
    "from math import sqrt"
   ]
  },
  {
   "cell_type": "code",
   "execution_count": null,
   "metadata": {
    "colab": {
     "base_uri": "https://localhost:8080/"
    },
    "id": "ACaBX2SxdZ0G",
    "outputId": "11d86f8a-1bf6-4d27-f4c1-ffcd3af916e6"
   },
   "outputs": [],
   "source": [
    "a = 2\n",
    "b = 3\n",
    "\n",
    "c = sqrt(a**2 + b**2)\n",
    "print(c)"
   ]
  },
  {
   "cell_type": "code",
   "execution_count": null,
   "metadata": {},
   "outputs": [],
   "source": [
    "# Alternative with numpy\n",
    "\n",
    "c2 = (a**2 + b**2)**(1/2)\n",
    "print(c2)"
   ]
  },
  {
   "cell_type": "markdown",
   "metadata": {
    "id": "sH8DDa-nd69x"
   },
   "source": [
    "## Functions\n",
    "* Define a function\n",
    "* Function name: pythagoras\n",
    "* Arguments: a, b\n",
    "* Indentation using tab (4 spaces) for the whole function\n",
    "* `return` statement"
   ]
  },
  {
   "cell_type": "code",
   "execution_count": null,
   "metadata": {
    "id": "OD4U4QzEeD3k"
   },
   "outputs": [],
   "source": [
    "def pythagoras(a, b):\n",
    "    return sqrt(a**2 + b**2) # Notice the tab!"
   ]
  },
  {
   "cell_type": "code",
   "execution_count": null,
   "metadata": {
    "colab": {
     "base_uri": "https://localhost:8080/"
    },
    "id": "b2swzQj8eRfz",
    "outputId": "5e99ee47-4eea-4236-afc9-52a464d9ae1d"
   },
   "outputs": [],
   "source": [
    "c = pythagoras(a, b)\n",
    "print(c)"
   ]
  },
  {
   "cell_type": "code",
   "execution_count": null,
   "metadata": {
    "colab": {
     "base_uri": "https://localhost:8080/",
     "height": 175
    },
    "id": "MyZrAIly8fFQ",
    "outputId": "a1776467-14e2-486b-b23e-c64f615d0070"
   },
   "outputs": [],
   "source": [
    "some_list = [(2,4),(6,7),(8,9),(1,6)]\n",
    "pd.DataFrame(some_list)"
   ]
  },
  {
   "cell_type": "code",
   "execution_count": null,
   "metadata": {
    "colab": {
     "base_uri": "https://localhost:8080/"
    },
    "id": "sYG7eRxn8oqt",
    "outputId": "b48f13ae-ad4e-49fd-9f19-bd3a36bf277a"
   },
   "outputs": [],
   "source": [
    "[pythagoras(stuff[0],stuff[1]) for stuff in some_list]"
   ]
  },
  {
   "cell_type": "code",
   "execution_count": null,
   "metadata": {},
   "outputs": [],
   "source": [
    "# Add results as a new column\n",
    "df = pd.DataFrame(some_list, columns=['a','b']) \n",
    "df['c'] = [pythagoras(stuff[0],stuff[1]) for stuff in some_list]\n",
    "print(df)\n"
   ]
  },
  {
   "cell_type": "markdown",
   "metadata": {
    "id": "ILnKSk0aAci6"
   },
   "source": [
    "**Best practice:** Adding documentation via\n",
    "* Doc-string (\"\"\")\n",
    "* Try placing the cursor at the function and press `<shift+tab>`"
   ]
  },
  {
   "cell_type": "code",
   "execution_count": null,
   "metadata": {
    "id": "7lN0P7RPAci6"
   },
   "outputs": [],
   "source": [
    "def pythagoras(a, b):\n",
    "    \"\"\"\n",
    "    Computes the length of the hypotenuse of a right triangle\n",
    "    \n",
    "    Arguments\n",
    "    a, b: the two lengths of the right triangle\n",
    "    \"\"\"\n",
    "    \n",
    "    return sqrt(a**2 + b**2)"
   ]
  },
  {
   "cell_type": "markdown",
   "metadata": {
    "id": "cHgFgoMIgDqw"
   },
   "source": [
    "## Mini-assignment\n",
    "* Construct a function that given two points $(x_1, y_1), (x_2, y_2)$ on a line computes the slope $a$ of the line\n",
    "$$ y = ax + b$$\n",
    "given by\n",
    "$$ a = \\frac{y_2- y_1}{x_2 - x_1}$$"
   ]
  },
  {
   "cell_type": "code",
   "execution_count": null,
   "metadata": {
    "id": "LZI28bDmgLv4"
   },
   "outputs": [],
   "source": [
    "\n",
    "def slope(x1, y1, x2, y2):\n",
    "    \"\"\"\n",
    "    Computes the slope of a line given two points on it\n",
    "    \"\"\"\n",
    "    return (y2 - y1) / (x2 - x1)\n"
   ]
  },
  {
   "cell_type": "code",
   "execution_count": null,
   "metadata": {},
   "outputs": [],
   "source": [
    "# test the function\n",
    "slope(1, 2, 3, 4) "
   ]
  },
  {
   "cell_type": "markdown",
   "metadata": {
    "id": "2zKsNBO2Puim"
   },
   "source": [
    "# Flow Control (loops & friends)\n",
    "\n",
    "Python is made for readability and therefore tabs and new lines have syntax meaning\n"
   ]
  },
  {
   "cell_type": "code",
   "execution_count": null,
   "metadata": {
    "colab": {
     "base_uri": "https://localhost:8080/"
    },
    "id": "OEdVwW4oPmrG",
    "outputId": "8c65dde1-41e9-4073-a6fa-8ebb800799ff"
   },
   "outputs": [],
   "source": [
    "# If/else controls\n",
    "x = 5 \n",
    "y = 10\n",
    "\n",
    "if (x==0):\n",
    "  y = 0\n",
    "  print('X is zero')\n",
    "else:\n",
    "  y = y/x  \n",
    "  print(y)"
   ]
  },
  {
   "cell_type": "code",
   "execution_count": null,
   "metadata": {
    "colab": {
     "base_uri": "https://localhost:8080/"
    },
    "id": "CPnjWDyUQBA2",
    "outputId": "fb1532c3-efaa-4dee-e0ec-72384aeaa7a2"
   },
   "outputs": [],
   "source": [
    "# For loops\n",
    "for i in range(1,x+1):\n",
    "  print(\"OMG, i just counted to \" + str(i))"
   ]
  },
  {
   "cell_type": "code",
   "execution_count": null,
   "metadata": {
    "colab": {
     "base_uri": "https://localhost:8080/"
    },
    "id": "fF4dZdA_QwWQ",
    "outputId": "ca004ad5-72ea-422d-8fd7-d269e570d691"
   },
   "outputs": [],
   "source": [
    "# While loop\n",
    "x = 5\n",
    "\n",
    "while x > 0:\n",
    "  print(x) \n",
    "  x = x-1"
   ]
  },
  {
   "cell_type": "code",
   "execution_count": null,
   "metadata": {
    "colab": {
     "base_uri": "https://localhost:8080/"
    },
    "id": "4sLNd02bQ__C",
    "outputId": "5f440de9-2a67-4907-9405-d6156eb27a0f"
   },
   "outputs": [],
   "source": [
    "x = 1\n",
    "\n",
    "while True: \n",
    "  print(x)\n",
    "  x = x + 1\n",
    "  if x > 7:\n",
    "    break"
   ]
  },
  {
   "cell_type": "code",
   "execution_count": null,
   "metadata": {
    "colab": {
     "base_uri": "https://localhost:8080/"
    },
    "id": "SpPi4L4tt_zN",
    "outputId": "dfdb8a77-785d-4a82-a986-3cf93fa4fdfd"
   },
   "outputs": [],
   "source": [
    "even = [] # empty list\n",
    "for i in range(10):\n",
    "    even.append(i*2)\n",
    "even"
   ]
  },
  {
   "cell_type": "code",
   "execution_count": null,
   "metadata": {
    "colab": {
     "base_uri": "https://localhost:8080/"
    },
    "id": "iokR-fr0uJ5g",
    "outputId": "ed9c5033-00a9-4910-8b45-ec350dcfdd7f"
   },
   "outputs": [],
   "source": [
    "odd = []\n",
    "for i in even:\n",
    "    odd.append(i+1)\n",
    "odd"
   ]
  },
  {
   "cell_type": "markdown",
   "metadata": {
    "id": "2PGf7TO1uix0"
   },
   "source": [
    "### Mini-assignment\n",
    "\n",
    "Write a function `KtoC` that translates Kelvin to Celcius\n",
    "\n",
    "$$ C = K - 273.15 \\quad \\text{with} \\quad C\\geq - 273.15$$\n",
    "\n",
    "The function returns `None` when $C < -273.15$"
   ]
  },
  {
   "cell_type": "code",
   "execution_count": null,
   "metadata": {
    "id": "uKOoIZj4G7Pf"
   },
   "outputs": [],
   "source": [
    "def KtoC(kelvin):\n",
    "  \"\"\"\n",
    "  Translates Kelvin to Celsius.\n",
    "\n",
    "  Args:\n",
    "    kelvin: The temperature in Kelvin.\n",
    "\n",
    "  Returns:\n",
    "    The temperature in Celsius, or None if the temperature is below -273.15.\n",
    "  \"\"\"\n",
    "  celsius = kelvin - 273.15\n",
    "  if celsius < -273.15:\n",
    "    return None\n",
    "  else:\n",
    "    return celsius\n",
    "\n",
    "# Example Usage:\n",
    "print(KtoC(298.15))  # Output: 24.869999999999996\n",
    "print(KtoC(-100)) # Output: None\n",
    "print(KtoC(0)) # Output: -273.15"
   ]
  },
  {
   "cell_type": "markdown",
   "metadata": {
    "id": "s0LRc_qV_rQB"
   },
   "source": [
    "\n",
    "\n",
    "#Object classes\n"
   ]
  },
  {
   "cell_type": "markdown",
   "metadata": {
    "id": "mO5_ey2l_zyO"
   },
   "source": [
    "## Vector\n",
    "\n",
    "One-dimensional collection of values"
   ]
  },
  {
   "cell_type": "code",
   "execution_count": null,
   "metadata": {
    "colab": {
     "base_uri": "https://localhost:8080/"
    },
    "id": "6YNedwER_yer",
    "outputId": "db3979cb-4d0c-4945-f419-5f847de14bb2"
   },
   "outputs": [],
   "source": [
    "# Numeric\n",
    "v1 = [1,5,11,33] # [] initiate a list\n",
    "v1"
   ]
  },
  {
   "cell_type": "code",
   "execution_count": null,
   "metadata": {
    "colab": {
     "base_uri": "https://localhost:8080/"
    },
    "id": "MuVsjqw_A5sL",
    "outputId": "5704b296-2ccf-4633-958c-0f0ac3058cf0"
   },
   "outputs": [],
   "source": [
    "# String\n",
    "v2 = [\"hello\",\"world\"]\n",
    "v2"
   ]
  },
  {
   "cell_type": "code",
   "execution_count": null,
   "metadata": {
    "colab": {
     "base_uri": "https://localhost:8080/"
    },
    "id": "5r-3iAR3A-DC",
    "outputId": "b558f5b2-9d4f-4ce5-8ba1-d94a58a45ce0"
   },
   "outputs": [],
   "source": [
    "# Boolean\n",
    "v3 = [True, True, False, True]\n",
    "v3"
   ]
  },
  {
   "cell_type": "markdown",
   "metadata": {
    "id": "xAG4dKvTIltF"
   },
   "source": [
    "Evaluating elements in vectors"
   ]
  },
  {
   "cell_type": "code",
   "execution_count": null,
   "metadata": {
    "colab": {
     "base_uri": "https://localhost:8080/"
    },
    "id": "1oeaDAHLIpsx",
    "outputId": "4136fb06-9bce-4e51-88d9-3caa7d4fd033"
   },
   "outputs": [],
   "source": [
    "v1[0]"
   ]
  },
  {
   "cell_type": "code",
   "execution_count": null,
   "metadata": {
    "colab": {
     "base_uri": "https://localhost:8080/"
    },
    "id": "3QOAjR8CI4IN",
    "outputId": "554d2628-e6c8-4a06-a7e2-4697b42267a3"
   },
   "outputs": [],
   "source": [
    "v1[1:3]"
   ]
  },
  {
   "cell_type": "markdown",
   "metadata": {
    "id": "PtDQGTsB2kG2"
   },
   "source": [
    "Manipulatingg vector elements"
   ]
  },
  {
   "cell_type": "code",
   "execution_count": null,
   "metadata": {
    "colab": {
     "base_uri": "https://localhost:8080/"
    },
    "id": "Oe_dkwp_2kRx",
    "outputId": "d2214a52-4234-402a-be16-84dc5a200b8e"
   },
   "outputs": [],
   "source": [
    "v1[2] = 1337\n",
    "v1"
   ]
  },
  {
   "cell_type": "markdown",
   "metadata": {
    "id": "odc1xHxmBWsA"
   },
   "source": [
    "Combining different types of elements you obtain a list of lists (later) with all elements in their original format"
   ]
  },
  {
   "cell_type": "code",
   "execution_count": null,
   "metadata": {
    "colab": {
     "base_uri": "https://localhost:8080/"
    },
    "id": "fQZ7HVJDBH6y",
    "outputId": "86dcdc80-d5e0-4147-bfd3-573614a0187f"
   },
   "outputs": [],
   "source": [
    "v5 =[v1, v2, v3]\n",
    "v5 \n",
    "# Integers (numbers) are still numbers, not strings (text). Easy to see because they don't have ' '"
   ]
  },
  {
   "cell_type": "markdown",
   "metadata": {
    "id": "eY19eb0hIeqo"
   },
   "source": [
    "Adding vectors will append them (not sum them)"
   ]
  },
  {
   "cell_type": "code",
   "execution_count": null,
   "metadata": {
    "colab": {
     "base_uri": "https://localhost:8080/"
    },
    "id": "U5ozc0Q8BR4L",
    "outputId": "5b4db14c-e0a5-4ed8-bc1d-58fbbbc1b0ac"
   },
   "outputs": [],
   "source": [
    "v1 + v3"
   ]
  },
  {
   "cell_type": "code",
   "execution_count": null,
   "metadata": {
    "colab": {
     "base_uri": "https://localhost:8080/"
    },
    "id": "LTbWQMQyCKmT",
    "outputId": "a1fcc791-8e57-4442-9d15-9895846df90e"
   },
   "outputs": [],
   "source": [
    "# Same for multiplication\n",
    "v1 * 2"
   ]
  },
  {
   "cell_type": "markdown",
   "metadata": {
    "id": "4nwBrA3mB3kM"
   },
   "source": [
    "**Element-wise operations:** To do numerical operations on vectors\n",
    "numpy.arrays. NumPy is a library, adding support for large, multi-dimensional arrays and matrices, along with a large collection of high-level mathematical functions to operate on these arrays. Here, you can already see that Python is a CS language."
   ]
  },
  {
   "cell_type": "code",
   "execution_count": null,
   "metadata": {
    "id": "jXCR4ygoKe7S"
   },
   "outputs": [],
   "source": [
    "v1_array = np.array(v1)\n",
    "v2_array = np.array(v2)\n",
    "v3_array = np.array(v3)"
   ]
  },
  {
   "cell_type": "code",
   "execution_count": null,
   "metadata": {
    "colab": {
     "base_uri": "https://localhost:8080/"
    },
    "id": "Ttaz6q4VKzNX",
    "outputId": "6a11b842-464e-4008-c633-5417d00de896"
   },
   "outputs": [],
   "source": [
    "v1_array"
   ]
  },
  {
   "cell_type": "code",
   "execution_count": null,
   "metadata": {
    "colab": {
     "base_uri": "https://localhost:8080/"
    },
    "id": "6IyUAEunLASy",
    "outputId": "003bc4d3-3744-4ada-beb7-3247e2da93c6"
   },
   "outputs": [],
   "source": [
    "v1_array + 5"
   ]
  },
  {
   "cell_type": "code",
   "execution_count": null,
   "metadata": {
    "colab": {
     "base_uri": "https://localhost:8080/"
    },
    "id": "15du6wGyB0qj",
    "outputId": "44d18f4e-e730-4e59-ecc1-6591fa122c8b"
   },
   "outputs": [],
   "source": [
    "v1_array + v3_array"
   ]
  },
  {
   "cell_type": "code",
   "execution_count": null,
   "metadata": {
    "colab": {
     "base_uri": "https://localhost:8080/",
     "height": 184
    },
    "id": "h9EGsZTRDA23",
    "outputId": "60df8a2a-80ce-4ee8-8bf9-f11f3a9d0cf5"
   },
   "outputs": [],
   "source": [
    "# Arrays of different size\n",
    "v1_array + np.array([1,7])"
   ]
  },
  {
   "cell_type": "markdown",
   "metadata": {},
   "source": [
    "We cannot sum arrays of different size!"
   ]
  },
  {
   "cell_type": "code",
   "execution_count": null,
   "metadata": {
    "colab": {
     "base_uri": "https://localhost:8080/",
     "height": 184
    },
    "id": "zqSYtKjtLmEj",
    "outputId": "afee39c7-b1c6-4716-d94b-6c3fcac33e0c"
   },
   "outputs": [],
   "source": [
    "# non-numerical arrays\n",
    "v1_array + v2_array"
   ]
  },
  {
   "cell_type": "markdown",
   "metadata": {},
   "source": [
    "We cannot sum numbers and words!"
   ]
  },
  {
   "cell_type": "markdown",
   "metadata": {
    "id": "wyKGw7LphYV2"
   },
   "source": [
    "**Mathematical operations over the vector:** For most maths you need to engage numpy or other modules (Python is not per sea maths language)"
   ]
  },
  {
   "cell_type": "code",
   "execution_count": null,
   "metadata": {
    "colab": {
     "base_uri": "https://localhost:8080/"
    },
    "id": "pBsnrz9GDXlU",
    "outputId": "9f9d8a91-89be-4ddd-9994-65936b1f0172"
   },
   "outputs": [],
   "source": [
    "# that works the same way\n",
    "np.sum(v1)"
   ]
  },
  {
   "cell_type": "code",
   "execution_count": null,
   "metadata": {
    "colab": {
     "base_uri": "https://localhost:8080/"
    },
    "id": "NXuWEoQ7DrFd",
    "outputId": "fe046174-253e-4f40-a83f-91d3b5f0dfe6"
   },
   "outputs": [],
   "source": [
    "np.mean(v1)"
   ]
  },
  {
   "cell_type": "code",
   "execution_count": null,
   "metadata": {
    "colab": {
     "base_uri": "https://localhost:8080/"
    },
    "id": "sjAX77_4KfAT",
    "outputId": "a793aaaf-b472-4f04-e315-a10dc5c43a98"
   },
   "outputs": [],
   "source": [
    "# Standard deviation for population - DeltaDegreesOfFreedom = 0 by default\n",
    "np.std(v1, ddof=0)"
   ]
  },
  {
   "cell_type": "code",
   "execution_count": null,
   "metadata": {
    "colab": {
     "base_uri": "https://localhost:8080/"
    },
    "id": "kDOkhq4cDvVe",
    "outputId": "75e034c9-db8d-46a5-8c3f-e02de6687857"
   },
   "outputs": [],
   "source": [
    "np.std(v1, ddof=1)"
   ]
  },
  {
   "cell_type": "code",
   "execution_count": null,
   "metadata": {
    "colab": {
     "base_uri": "https://localhost:8080/"
    },
    "id": "gGf4jB8MKbgA",
    "outputId": "bcb3b464-1b38-4161-d40d-da9e58af8268"
   },
   "outputs": [],
   "source": [
    "np.corrcoef(v1,v1)"
   ]
  },
  {
   "cell_type": "markdown",
   "metadata": {
    "id": "wFqKVINTL1RN"
   },
   "source": [
    "Also consider this cheat sheet\n",
    "\n",
    "https://s3.amazonaws.com/assets.datacamp.com/blog_assets/Numpy_Python_Cheat_Sheet.pdf"
   ]
  },
  {
   "cell_type": "markdown",
   "metadata": {
    "id": "juKqaTiaivBS"
   },
   "source": [
    "## Lists\n",
    "* An indexable collection of variables (objects)\n",
    "* C-style or 0-indexed"
   ]
  },
  {
   "cell_type": "code",
   "execution_count": null,
   "metadata": {
    "colab": {
     "base_uri": "https://localhost:8080/"
    },
    "id": "p6QpJdRro3Y1",
    "outputId": "6a8fc13a-dee5-49fc-c08b-f81706de8d5c"
   },
   "outputs": [],
   "source": [
    "l = ['Caroline', 1.0, pythagoras]\n",
    "type(l)"
   ]
  },
  {
   "cell_type": "code",
   "execution_count": null,
   "metadata": {
    "colab": {
     "base_uri": "https://localhost:8080/"
    },
    "id": "fVvCpMc5o8GY",
    "outputId": "50bd4499-a6e0-429e-9096-d2e61f8a3079"
   },
   "outputs": [],
   "source": [
    "l"
   ]
  },
  {
   "cell_type": "code",
   "execution_count": null,
   "metadata": {
    "colab": {
     "base_uri": "https://localhost:8080/",
     "height": 35
    },
    "id": "_iVoeTMSpI1p",
    "outputId": "e5945010-74f6-4de6-8a98-4b12c3094b3b"
   },
   "outputs": [],
   "source": [
    "l[0]"
   ]
  },
  {
   "cell_type": "code",
   "execution_count": null,
   "metadata": {
    "colab": {
     "base_uri": "https://localhost:8080/"
    },
    "id": "8XwMxiK5pBPx",
    "outputId": "9e7d75fa-4db7-4ef3-eee5-edabbfeb63e5"
   },
   "outputs": [],
   "source": [
    "type(l[0])"
   ]
  },
  {
   "cell_type": "markdown",
   "metadata": {
    "id": "U-b0NEatpUDX"
   },
   "source": [
    "Common methods for lists"
   ]
  },
  {
   "cell_type": "code",
   "execution_count": null,
   "metadata": {
    "colab": {
     "base_uri": "https://localhost:8080/"
    },
    "id": "qNpFJvtUpWAC",
    "outputId": "cf153508-8fb3-47e9-9e85-0dc9dccfb526"
   },
   "outputs": [],
   "source": [
    "l.append(sqrt(2.0))\n",
    "l"
   ]
  },
  {
   "cell_type": "code",
   "execution_count": null,
   "metadata": {
    "colab": {
     "base_uri": "https://localhost:8080/"
    },
    "id": "XdlqQeccpZIj",
    "outputId": "4401705d-230b-45e9-b1d3-e0bb2fd682a0"
   },
   "outputs": [],
   "source": [
    "a = l.pop(2) #The pop() function is used to remove an element from the list \n",
    "a"
   ]
  },
  {
   "cell_type": "code",
   "execution_count": null,
   "metadata": {
    "colab": {
     "base_uri": "https://localhost:8080/"
    },
    "id": "xvACg9qX3Pck",
    "outputId": "fc39ed4c-25a9-41f5-d89d-75003702f7fc"
   },
   "outputs": [],
   "source": [
    "l"
   ]
  },
  {
   "cell_type": "code",
   "execution_count": null,
   "metadata": {
    "id": "O3D4DLxMpkT3"
   },
   "outputs": [],
   "source": [
    "l.pop(0)\n",
    "l.append(100)\n",
    "l.sort(reverse=True)"
   ]
  },
  {
   "cell_type": "code",
   "execution_count": null,
   "metadata": {
    "colab": {
     "base_uri": "https://localhost:8080/"
    },
    "id": "Ls42YiqeppJ9",
    "outputId": "4595c4bf-b65a-46c6-98dd-369cecf616e8"
   },
   "outputs": [],
   "source": [
    "l"
   ]
  },
  {
   "cell_type": "code",
   "execution_count": null,
   "metadata": {
    "colab": {
     "base_uri": "https://localhost:8080/"
    },
    "id": "s7bnNoJhp2PO",
    "outputId": "e0268426-2368-4a75-f586-ab60bd4da3df"
   },
   "outputs": [],
   "source": [
    "l[1] = 2\n",
    "l"
   ]
  },
  {
   "cell_type": "code",
   "execution_count": null,
   "metadata": {
    "colab": {
     "base_uri": "https://localhost:8080/"
    },
    "id": "vocUwCUkp6Qp",
    "outputId": "02087494-9a7f-427e-da21-65a0eef656ae"
   },
   "outputs": [],
   "source": [
    "l.extend([6.0, 4])\n",
    "l"
   ]
  },
  {
   "cell_type": "markdown",
   "metadata": {
    "id": "1FEwzWyLqU8E"
   },
   "source": [
    "## Tuples\n",
    "* Immutable \"lists\""
   ]
  },
  {
   "cell_type": "code",
   "execution_count": null,
   "metadata": {
    "colab": {
     "base_uri": "https://localhost:8080/"
    },
    "id": "TpUMKFPtqdFL",
    "outputId": "038c7aec-2245-4ae7-82ff-7f9d987eea58"
   },
   "outputs": [],
   "source": [
    "t = (1.0, 4.0)\n",
    "t, type(t)"
   ]
  },
  {
   "cell_type": "code",
   "execution_count": null,
   "metadata": {
    "colab": {
     "base_uri": "https://localhost:8080/"
    },
    "id": "u5NE8IKzqfds",
    "outputId": "a451d012-a568-41d1-83b3-aef58a03784f"
   },
   "outputs": [],
   "source": [
    "t[1]"
   ]
  },
  {
   "cell_type": "code",
   "execution_count": null,
   "metadata": {
    "colab": {
     "base_uri": "https://localhost:8080/",
     "height": 166
    },
    "id": "04ireNT-qiHN",
    "outputId": "0aca450a-a275-4249-a07b-aeeb9026333d"
   },
   "outputs": [],
   "source": [
    "t[1] = 2"
   ]
  },
  {
   "cell_type": "markdown",
   "metadata": {},
   "source": [
    "We cannot assign only one value to a tuppuple element because tuples are immutable."
   ]
  },
  {
   "cell_type": "markdown",
   "metadata": {
    "id": "Mbn7WPtIqlhs"
   },
   "source": [
    "## Dictionaries\n",
    "- Like lists with user-definable indices\n",
    "- Can, like lists and tuples, contain a mix of different types of data.\n",
    "- The indices can *also* be different kinds of data - unlike lists and tuples."
   ]
  },
  {
   "cell_type": "code",
   "execution_count": null,
   "metadata": {
    "colab": {
     "base_uri": "https://localhost:8080/"
    },
    "id": "o7MP7oRwqwbi",
    "outputId": "a0f90866-7d0b-448e-a1ed-326f13b216bf"
   },
   "outputs": [],
   "source": [
    "d = {'one': 1, 2: 1 + 1, 3.0: 'three'}\n",
    "d"
   ]
  },
  {
   "cell_type": "markdown",
   "metadata": {
    "id": "_-6xdkewq_3Q"
   },
   "source": [
    "Usefull methods"
   ]
  },
  {
   "cell_type": "code",
   "execution_count": null,
   "metadata": {
    "colab": {
     "base_uri": "https://localhost:8080/"
    },
    "id": "kLpSqxHUrBZJ",
    "outputId": "82af5253-acea-4f74-e80a-53d53dea7c7b"
   },
   "outputs": [],
   "source": [
    "d.keys()"
   ]
  },
  {
   "cell_type": "code",
   "execution_count": null,
   "metadata": {
    "colab": {
     "base_uri": "https://localhost:8080/"
    },
    "id": "M7igUfJurFxl",
    "outputId": "74342628-e2a5-4de6-949e-b1a451d1e34f"
   },
   "outputs": [],
   "source": [
    "d.items()"
   ]
  },
  {
   "cell_type": "code",
   "execution_count": null,
   "metadata": {
    "colab": {
     "base_uri": "https://localhost:8080/"
    },
    "id": "nEvSUJ0JrTB7",
    "outputId": "51867c7f-ece7-49b0-924b-048478fd5178"
   },
   "outputs": [],
   "source": [
    "some_value = d.pop(3.0)\n",
    "d"
   ]
  },
  {
   "cell_type": "code",
   "execution_count": null,
   "metadata": {
    "colab": {
     "base_uri": "https://localhost:8080/",
     "height": 35
    },
    "id": "yA_U7JXRrY_q",
    "outputId": "1d9b3b47-918b-4c86-f4dd-a01ceab25c65"
   },
   "outputs": [],
   "source": [
    "some_value"
   ]
  },
  {
   "cell_type": "code",
   "execution_count": null,
   "metadata": {
    "colab": {
     "base_uri": "https://localhost:8080/"
    },
    "id": "xclG5A8krrJR",
    "outputId": "07383377-9c8d-4523-dc62-d2f576af10c7"
   },
   "outputs": [],
   "source": [
    "d['four'] = 4\n",
    "d"
   ]
  },
  {
   "cell_type": "code",
   "execution_count": null,
   "metadata": {
    "colab": {
     "base_uri": "https://localhost:8080/"
    },
    "id": "m-bPPrbysGvC",
    "outputId": "8f7764fe-5079-4d41-829a-2f2977335e67"
   },
   "outputs": [],
   "source": [
    "d.update({'five': 5.0, 6: 6.0})\n",
    "d"
   ]
  },
  {
   "cell_type": "markdown",
   "metadata": {
    "id": "QoEnu2rcMMSY"
   },
   "source": [
    "## Data Frames\n",
    "\n",
    "In Python Data Frames are managed by Pandas, a very comprehensive library for data manipulation and analysis.\n",
    "\n",
    "We will introduce to it later more in detail, so here only brief:"
   ]
  },
  {
   "cell_type": "code",
   "execution_count": null,
   "metadata": {
    "id": "_FQ-oFLZL7CG"
   },
   "outputs": [],
   "source": [
    "# We construct the DF from a dictionary which is indicated by {'some_key':['some_values']}\n",
    "\n",
    "df1 = pd.DataFrame(\n",
    "    {'ID':range(1,5), # Python counts from 0 and the last value in a range is excluded\n",
    "     'FirstName':[\"Jesper\",\"Jonas\",\"Pernille\",\"Helle\"],\n",
    "     'Female':[False,False,True,True],\n",
    "     'Age':[22,33,44,55]\n",
    "})"
   ]
  },
  {
   "cell_type": "code",
   "execution_count": null,
   "metadata": {
    "colab": {
     "base_uri": "https://localhost:8080/"
    },
    "id": "qipUW6Q1NVKY",
    "outputId": "d28ca70d-e9fd-4e2d-920a-716f0553e767"
   },
   "outputs": [],
   "source": [
    "# Python doesn't really do much factors and as you can see pandas understood your input formats\n",
    "df1.info()"
   ]
  },
  {
   "cell_type": "code",
   "execution_count": null,
   "metadata": {
    "colab": {
     "base_uri": "https://localhost:8080/"
    },
    "id": "SD7HZIQQNkpU",
    "outputId": "a952e2cb-7698-43ab-dc05-daab43e8067d"
   },
   "outputs": [],
   "source": [
    "df1.FirstName #dot notation"
   ]
  },
  {
   "cell_type": "code",
   "execution_count": null,
   "metadata": {
    "colab": {
     "base_uri": "https://localhost:8080/"
    },
    "id": "0Do1Lk-uN2zO",
    "outputId": "631cd130-111f-47b7-fa0d-bf411a6b31e0"
   },
   "outputs": [],
   "source": [
    "df1['FirstName'] #more traditional subsetting"
   ]
  },
  {
   "cell_type": "code",
   "execution_count": null,
   "metadata": {
    "colab": {
     "base_uri": "https://localhost:8080/"
    },
    "id": "zLFKVJVsN9bD",
    "outputId": "1245cacc-1767-4ba8-e891-79deef8b24e9"
   },
   "outputs": [],
   "source": [
    "df1.loc[:,'FirstName'] #more complex subsetting"
   ]
  },
  {
   "cell_type": "code",
   "execution_count": null,
   "metadata": {
    "colab": {
     "base_uri": "https://localhost:8080/"
    },
    "id": "9J8NRzRrOBcD",
    "outputId": "f38332fe-5b09-47b9-8439-476ff5a1ff13"
   },
   "outputs": [],
   "source": [
    "df1.iloc[:,1] #index based"
   ]
  },
  {
   "cell_type": "code",
   "execution_count": null,
   "metadata": {
    "colab": {
     "base_uri": "https://localhost:8080/",
     "height": 112
    },
    "id": "duwAHqnyOHlH",
    "outputId": "e6791c09-e36c-40b1-e9a7-d92fb26b4250"
   },
   "outputs": [],
   "source": [
    "# Rows 1 and 2, columns 3 and 4 - the gender and age of Jesper & Jonas\n",
    "df1.iloc[[0,1],[2,3]]\n"
   ]
  },
  {
   "cell_type": "code",
   "execution_count": null,
   "metadata": {
    "colab": {
     "base_uri": "https://localhost:8080/",
     "height": 112
    },
    "id": "xUHIecqoOjhR",
    "outputId": "52157f82-6b84-4a19-e518-af191e795bc9"
   },
   "outputs": [],
   "source": [
    "#Same thing\n",
    "df1.loc[[0,1],['Female','Age']]"
   ]
  },
  {
   "cell_type": "code",
   "execution_count": null,
   "metadata": {
    "colab": {
     "base_uri": "https://localhost:8080/",
     "height": 112
    },
    "id": "XDKencHoOy5O",
    "outputId": "2d0e6323-cc8c-4899-a286-5cad2de7b82c"
   },
   "outputs": [],
   "source": [
    "# Rows 1 and 3, all columns\n",
    "\n",
    "df1.iloc[[0,2],:] # don't forget to count index-1 when going from R to python"
   ]
  },
  {
   "cell_type": "code",
   "execution_count": null,
   "metadata": {
    "colab": {
     "base_uri": "https://localhost:8080/",
     "height": 143
    },
    "id": "b8vrtaLOPBuy",
    "outputId": "c7ea9ab2-1502-4215-f783-5518b9f2f9ed"
   },
   "outputs": [],
   "source": [
    "#Find the names of everyone over the age of 30 in the data\n",
    "df1[df1.Age > 30]"
   ]
  },
  {
   "cell_type": "code",
   "execution_count": null,
   "metadata": {
    "colab": {
     "base_uri": "https://localhost:8080/",
     "height": 143
    },
    "id": "2ORTGEiMPR-M",
    "outputId": "316198bb-edbd-454b-8a75-ba71822640f9"
   },
   "outputs": [],
   "source": [
    "# or \"Query style\" (There are always many ways of doing the same thing)\n",
    "df1.query('Age > 30')"
   ]
  }
 ],
 "metadata": {
  "colab": {
   "collapsed_sections": [],
   "include_colab_link": true,
   "name": "python data manipulation basics",
   "provenance": []
  },
  "kernelspec": {
   "display_name": "Python 3.11 (SDS24)",
   "language": "python",
   "name": "sds24"
  },
  "language_info": {
   "codemirror_mode": {
    "name": "ipython",
    "version": 3
   },
   "file_extension": ".py",
   "mimetype": "text/x-python",
   "name": "python",
   "nbconvert_exporter": "python",
   "pygments_lexer": "ipython3",
   "version": "3.12.6"
  }
 },
 "nbformat": 4,
 "nbformat_minor": 1
}
