{
  "cells": [
    {
      "cell_type": "markdown",
      "metadata": {},
      "source": [
        "## 🎯 Welcome! Your Journey Starts Here\n",
        "\n",
        "Welcome to the world of programming! You're here because you want to solve business problems using data, and Python is the #1 language for doing just that.\n",
        "\n",
        "**Why Python for AI and Business?**\n",
        "\n",
        "Think of Python not as a complex coding language, but as your personal, highly-intelligent assistant. You give it instructions, and it performs complex data tasks in seconds.\n",
        "\n",
        "1.  **The Brain of AI:** Python is the foundation for the tools you'll use every day:\n",
        "    *   `pandas`: Your go-to for analyzing and cleaning data (like an Excel spreadsheet on steroids).\n",
        "    *   `scikit-learn`: Your toolkit for building predictive machine learning models.\n",
        "    *   `numpy`: The engine for high-speed numerical calculations.\n",
        "2.  **Automate Anything:** From cleaning thousands of customer records to running predictive models, Python turns repetitive work into automated pipelines.\n",
        "3.  **Community Power:** A massive global community means if you have a question, someone has already answered it.\n",
        "\n",
        "In this session, you'll learn the basic grammar of Python. This is the foundation upon which we will build powerful data analysis and machine learning models. Let's get started!\n",
        "\n",
        "---\n",
        "\n",
        "# Part 1: In-Class Session (60 Mins) 👨‍🏫\n",
        "\n",
        "Our goal in this hour is to get you comfortable writing and running your first Python code. We'll focus on the absolute essentials.\n",
        "\n",
        "## Your First Lines of Code (10 mins)\n",
        "\n",
        "In a Jupyter notebook, code is organized in \"cells\". You can run a cell by clicking on it and pressing `Shift + Enter`.\n",
        "\n",
        "Let's start with the traditional first program."
      ]
    },
    {
      "cell_type": "code",
      "execution_count": null,
      "metadata": {},
      "outputs": [],
      "source": [
        "# This is a comment. Python ignores anything after a '#'.\n",
        "# Comments help us explain our code to others (and our future selves!).\n",
        "\n",
        "# The print() function displays output.\n",
        "print('Hello, Data Scientist!')"
      ]
    },
    {
      "cell_type": "markdown",
      "metadata": {},
      "source": [
        "### Variables: Storing Your Data\n",
        "\n",
        "Think of variables as labeled boxes where you store information. In data science, these \"boxes\" hold everything from a customer's age to a sales figure or a model's accuracy score."
      ]
    },
    {
      "cell_type": "code",
      "execution_count": null,
      "metadata": {},
      "outputs": [],
      "source": [
        "# Storing a customer's age (an integer)\n",
        "customer_age = 34\n",
        "print('Customer Age:', customer_age)\n",
        "\n",
        "# Storing a product price (a float, i.e., a number with decimals)\n",
        "product_price = 199.99\n",
        "print('Product Price:', product_price)\n",
        "\n",
        "# Storing a customer segment (a string, i.e., text)\n",
        "customer_segment = 'High-Value'\n",
        "print('Customer Segment:', customer_segment)"
      ]
    },
    {
      "cell_type": "markdown",
      "metadata": {},
      "source": [
        "::: {.callout-note}\n",
        "## Why Do Data Types Matter?\n",
        "Python automatically detects the type of data (`integer`, `float`, `string`). This is crucial because the type determines what you can do with the data. You can calculate the average `product_price`, but you can't calculate the average `customer_segment`!\n",
        ":::\n",
        "\n",
        "### Basic Operations: From Raw Data to Insights\n",
        "\n",
        "You can use standard math operations to start analyzing your data."
      ]
    },
    {
      "cell_type": "code",
      "execution_count": null,
      "metadata": {},
      "outputs": [],
      "source": [
        "# Let's say we have data for a single sale\n",
        "price_per_unit = 49.95\n",
        "units_sold = 5\n",
        "cost_per_unit = 20.0\n",
        "\n",
        "# Calculate total revenue\n",
        "total_revenue = price_per_unit * units_sold\n",
        "print('Total Revenue:', total_revenue)\n",
        "\n",
        "# Calculate total cost\n",
        "total_cost = cost_per_unit * units_sold\n",
        "print('Total Cost:', total_cost)\n",
        "\n",
        "# Calculate profit\n",
        "profit = total_revenue - total_cost\n",
        "print('Profit for this sale:', profit)"
      ]
    },
    {
      "cell_type": "markdown",
      "metadata": {},
      "source": [
        "### Comparisons: Asking Questions About Your Data\n",
        "\n",
        "Comparisons are the basis of filtering and decision-making. They always return a `True` or `False` value (a \"boolean\")."
      ]
    },
    {
      "cell_type": "code",
      "execution_count": null,
      "metadata": {},
      "outputs": [],
      "source": [
        "# Is this a profitable sale?\n",
        "is_profitable = profit > 0\n",
        "print('Was the sale profitable?', is_profitable)\n",
        "\n",
        "# Did we sell at least 3 units?\n",
        "min_units_sold = 3\n",
        "sold_enough = units_sold >= min_units_sold\n",
        "print('Did we meet the sales target?', sold_enough)\n",
        "\n",
        "# Is the customer's age exactly 34?\n",
        "is_age_34 = customer_age == 34 # Use '==' for comparison, '=' is for assignment\n",
        "print('Is the customer 34 years old?', is_age_34)"
      ]
    },
    {
      "cell_type": "markdown",
      "metadata": {},
      "source": [
        "> **🧠 Try It Yourself:** In the cell below, create a variable `revenue_target` with a value of `200`. Then, write a comparison to check if `total_revenue` met or exceeded this target."
      ]
    },
    {
      "cell_type": "code",
      "execution_count": null,
      "metadata": {},
      "outputs": [],
      "source": [
        "# Your code here!"
      ]
    },
    {
      "cell_type": "markdown",
      "metadata": {},
      "source": [
        "## Core Data Structures (15 mins)\n",
        "\n",
        "Single data points are useful, but data science works with collections of data. The most fundamental collection is a **list**.\n",
        "\n",
        "### Lists: Your First Dataset 📊\n",
        "\n",
        "A list is an ordered collection of items, enclosed in `[]`. In data science, you'll use lists to hold features, columns of data, or prediction results."
      ]
    },
    {
      "cell_type": "code",
      "execution_count": null,
      "metadata": {},
      "outputs": [],
      "source": [
        "# A list of sales figures for a week\n",
        "daily_sales = [150.50, 230.10, 99.75, 450.00, 175.25]\n",
        "print(daily_sales)\n",
        "\n",
        "# A list of feature names for a model\n",
        "feature_names = ['age', 'income', 'days_since_last_purchase']\n",
        "print(feature_names)"
      ]
    },
    {
      "cell_type": "markdown",
      "metadata": {},
      "source": [
        "You can access elements in a list using their **index**. Python is 0-indexed, meaning the first element is at index `0`."
      ]
    },
    {
      "cell_type": "code",
      "execution_count": null,
      "metadata": {},
      "outputs": [],
      "source": [
        "# Get the first day's sales\n",
        "first_day_sales = daily_sales[0]\n",
        "print('Sales on Day 1:', first_day_sales)\n",
        "\n",
        "# Get the last feature name\n",
        "# You can use -1 to get the last item, -2 for the second to last, and so on.\n",
        "last_feature = feature_names[-1]\n",
        "print('Last Feature:', last_feature)"
      ]
    },
    {
      "cell_type": "markdown",
      "metadata": {},
      "source": [
        "::: {.callout-warning}\n",
        "#### Common Mistake: The \"Off-by-One\" Error\n",
        "Forgetting that Python starts counting at 0 is one of the most common errors for beginners. `my_list[3]` gives you the *fourth* item, not the third!\n",
        ":::\n",
        "\n",
        "> **🧠 Try It Yourself:** In the cell below, get the sales figure for the *third* day from the `daily_sales` list."
      ]
    },
    {
      "cell_type": "code",
      "execution_count": null,
      "metadata": {},
      "outputs": [],
      "source": [
        "# Your code here!"
      ]
    },
    {
      "cell_type": "markdown",
      "metadata": {},
      "source": [
        "## Functions: Creating Reusable Tools 🛠️ (10 mins)\n",
        "\n",
        "As a data scientist, you'll perform the same tasks over and over: cleaning data, calculating metrics, preparing features. Functions let you package up a piece of code so you can reuse it easily. This is the heart of automation!\n",
        "\n",
        "Let's create a function to calculate the profit margin.\n",
        "\n",
        "$$ \\text{Profit Margin} = \\frac{\\text{Revenue} - \\text{Cost}}{\\text{Revenue}} \\times 100 $$"
      ]
    },
    {
      "cell_type": "code",
      "execution_count": null,
      "metadata": {},
      "outputs": [],
      "source": [
        "# Before we define our function, we need to import a library for math\n",
        "from math import sqrt # We'll use this later, but it's good practice to import at the top\n",
        "\n",
        "def calculate_profit_margin(revenue, cost):\n",
        "    \"\"\"\n",
        "    Calculates the profit margin as a percentage.\n",
        "\n",
        "    Arguments:\n",
        "    revenue: The total revenue from a sale.\n",
        "    cost: The total cost of the goods sold.\n",
        "    \"\"\"\n",
        "    # Important: Check for division by zero!\n",
        "    if revenue == 0:\n",
        "        return 0\n",
        "\n",
        "    margin = ((revenue - cost) / revenue) * 100\n",
        "    return margin"
      ]
    },
    {
      "cell_type": "markdown",
      "metadata": {},
      "source": [
        "Now, we can *call* our function with the data we defined earlier."
      ]
    },
    {
      "cell_type": "code",
      "execution_count": null,
      "metadata": {},
      "outputs": [],
      "source": [
        "# Let's use our variables from before\n",
        "# total_revenue = 249.75\n",
        "# total_cost = 100.0\n",
        "\n",
        "margin = calculate_profit_margin(total_revenue, total_cost)\n",
        "\n",
        "# The 'f' before the string lets us embed variables directly inside {}\n",
        "print(f'The profit margin is: {margin:.2f}%')"
      ]
    },
    {
      "cell_type": "markdown",
      "metadata": {},
      "source": [
        "::: {.callout-tip}\n",
        "### Why Functions are Your Best Friend\n",
        "1.  **Reusability:** Write once, use everywhere. No more copy-pasting.\n",
        "2.  **Readability:** `calculate_profit_margin(rev, cost)` is much clearer than a complex formula.\n",
        "3.  **Maintainability:** If you need to change the formula, you only have to change it in one place.\n",
        ":::\n",
        "\n",
        "## Practice & Discussion (15 mins)\n",
        "\n",
        "Let's solidify what we've learned with a mini-challenge.\n",
        "\n",
        "### Mini-Challenge: Customer Discount Function\n",
        "\n",
        "You are tasked with creating a function for an e-commerce site. The function should take a `cart_total` and a `customer_status` (`'VIP'` or `'Standard'`) and apply a discount.\n",
        "\n",
        "*   VIPs get a 20% discount.\n",
        "*   Standard customers get a 10% discount.\n",
        "\n",
        "The function should return the final price after the discount."
      ]
    },
    {
      "cell_type": "code",
      "execution_count": null,
      "metadata": {},
      "outputs": [],
      "source": [
        "# Mini-Challenge\n",
        "def calculate_final_price(cart_total, customer_status):\n",
        "    \"\"\"\n",
        "    Calculates the final price after applying a status-based discount.\n",
        "    \"\"\"\n",
        "    # Your code goes here!\n",
        "    # Hint: Use an if/else statement to check the customer_status.\n",
        "    if customer_status == 'VIP':\n",
        "        # Apply 20% discount\n",
        "        final_price = cart_total * 0.80\n",
        "    else:\n",
        "        # Apply 10% discount\n",
        "        final_price = cart_total * 0.90\n",
        "    \n",
        "    return final_price\n",
        "\n",
        "# --- Test your function ---\n",
        "vip_price = calculate_final_price(200, 'VIP')\n",
        "print(f'A VIP customer with a $200 cart pays: ${vip_price}')\n",
        "\n",
        "standard_price = calculate_final_price(200, 'Standard')\n",
        "print(f'A Standard customer with a $200 cart pays: ${standard_price}')"
      ]
    },
    {
      "cell_type": "markdown",
      "metadata": {},
      "source": [
        "---\n",
        "\n",
        "# Part 2: After-Class Exploration 🏠\n",
        "\n",
        "Congratulations on completing the in-class session! Now it's time to explore a few more concepts on your own. These are essential building blocks for handling larger datasets and automating your workflows.\n",
        "\n",
        "## Flow Control: Working with Data in Batches\n",
        "\n",
        "Often, you'll need to perform an action on every item in a list. This is where loops come in.\n",
        "\n",
        "### `for` Loops\n",
        "\n",
        "A `for` loop iterates over a sequence (like a list) and executes a block of code for each item.\n",
        "\n",
        "**Scenario:** You have a list of sales prices and you need to apply a 19% VAT to each one."
      ]
    },
    {
      "cell_type": "code",
      "execution_count": null,
      "metadata": {},
      "outputs": [],
      "source": [
        "sales_prices = [100, 250, 75.5, 300]\n",
        "prices_with_vat = [] # Start with an empty list to store the results\n",
        "\n",
        "# The loop: \"for each 'price' in the 'sales_prices' list...\"\n",
        "for price in sales_prices:\n",
        "    final_price = price * 1.19\n",
        "    prices_with_vat.append(final_price) # .append() adds an item to the end of a list\n",
        "\n",
        "print(\"Original prices:\", sales_prices)\n",
        "print(\"Prices with VAT:\", prices_with_vat)"
      ]
    },
    {
      "cell_type": "markdown",
      "metadata": {},
      "source": [
        "### `if`/`else` Controls Inside Loops\n",
        "\n",
        "You can combine loops with conditional logic to perform more complex tasks.\n",
        "\n",
        "**Scenario:** You want to create a list of all sales over €100."
      ]
    },
    {
      "cell_type": "code",
      "execution_count": null,
      "metadata": {},
      "outputs": [],
      "source": [
        "large_sales = [] # Create an empty list for our results\n",
        "\n",
        "for price in sales_prices:\n",
        "    if price > 100:\n",
        "        large_sales.append(price)\n",
        "\n",
        "print(\"All sales over €100:\", large_sales)"
      ]
    },
    {
      "cell_type": "markdown",
      "metadata": {},
      "source": [
        "### 🧑‍💻 Your Turn: Categorize Expenses\n",
        "You have a list of business expenses. Write a loop that categorizes each expense as either 'Small' (<= 50) or 'Large' (> 50)."
      ]
    },
    {
      "cell_type": "code",
      "execution_count": null,
      "metadata": {},
      "outputs": [],
      "source": [
        "expenses = [25, 150, 49, 300, 50, 120]\n",
        "expense_categories = []\n",
        "\n",
        "# Write your for loop here\n",
        "# Hint: You'll need an if/else statement inside the loop.\n",
        "# Append either 'Small' or 'Large' to the expense_categories list.\n",
        "\n",
        "\n",
        "# --- Check your result ---\n",
        "# print(expense_categories) # Expected output: ['Small', 'Large', 'Small', 'Large', 'Small', 'Large']"
      ]
    },
    {
      "cell_type": "markdown",
      "metadata": {},
      "source": [
        "## More Powerful Data Structures\n",
        "\n",
        "Lists are great, but Python offers other structures for different needs.\n",
        "\n",
        "### Dictionaries: Labeled Data Records\n",
        "\n",
        "A dictionary (`dict`) stores data in `{key: value}` pairs. Think of it as a single record of data, like one row in a spreadsheet or a JSON object."
      ]
    },
    {
      "cell_type": "code",
      "execution_count": null,
      "metadata": {},
      "outputs": [],
      "source": [
        "# A dictionary representing a single customer\n",
        "customer_record = {\n",
        "    'customer_id': 'CUST-007',\n",
        "    'name': 'James Bond',\n",
        "    'age': 45,\n",
        "    'is_active': True,\n",
        "    'last_purchases': [99.50, 120.00, 350.75]\n",
        "}\n",
        "\n",
        "print(customer_record)"
      ]
    },
    {
      "cell_type": "markdown",
      "metadata": {},
      "source": [
        "You access data in a dictionary using its keys, not its index."
      ]
    },
    {
      "cell_type": "code",
      "execution_count": null,
      "metadata": {},
      "outputs": [],
      "source": [
        "# Get the customer's name\n",
        "customer_name = customer_record['name']\n",
        "print(f\"Customer Name: {customer_name}\")\n",
        "\n",
        "# Add a new piece of information\n",
        "customer_record['country'] = 'UK'\n",
        "print(\"Updated record:\", customer_record)"
      ]
    },
    {
      "cell_type": "markdown",
      "metadata": {},
      "source": [
        "::: {.callout-note}\n",
        "#### Connection to Data Science\n",
        "Dictionaries are everywhere! They are used for:\n",
        "-   Storing model parameters (`{'learning_rate': 0.01, 'epochs': 100}`).\n",
        "-   Representing data from APIs (JSON format).\n",
        "-   Building DataFrames, our primary tool for analysis.\n",
        ":::\n",
        "\n",
        "## The Main Event: Introduction to Pandas DataFrames 🐼\n",
        "\n",
        "While lists and dictionaries are Python's building blocks, `pandas` is the powerhouse for real-world data science. A **DataFrame** is the core structure in pandas—a 2D table, like a spreadsheet.\n",
        "\n",
        "First, we need to import the libraries we'll be using. It's a strong convention to import `numpy` as `np` and `pandas` as `pd`."
      ]
    },
    {
      "cell_type": "code",
      "execution_count": null,
      "metadata": {},
      "outputs": [],
      "source": [
        "import numpy as np\n",
        "import pandas as pd"
      ]
    },
    {
      "cell_type": "markdown",
      "metadata": {},
      "source": [
        "Let's create a DataFrame from a list of dictionaries. Each dictionary will become a row."
      ]
    },
    {
      "cell_type": "code",
      "execution_count": null,
      "metadata": {},
      "outputs": [],
      "source": [
        "# A list of customer data (each is a dictionary)\n",
        "customer_data = [\n",
        "    {'ID': 1, 'FirstName': \"Jesper\", 'Female': False, 'Age': 22},\n",
        "    {'ID': 2, 'FirstName': \"Jonas\", 'Female': False, 'Age': 33},\n",
        "    {'ID': 3, 'FirstName': \"Pernille\", 'Female': True, 'Age': 44},\n",
        "    {'ID': 4, 'FirstName': \"Helle\", 'Female': True, 'Age': 55}\n",
        "]\n",
        "\n",
        "# Create the DataFrame\n",
        "df = pd.DataFrame(customer_data)"
      ]
    },
    {
      "cell_type": "markdown",
      "metadata": {},
      "source": [
        "Now, let's look at our data. In a Jupyter notebook, simply typing the variable name of a DataFrame at the end of a cell will display it nicely."
      ]
    },
    {
      "cell_type": "code",
      "execution_count": null,
      "metadata": {},
      "outputs": [],
      "source": [
        "df"
      ]
    },
    {
      "cell_type": "markdown",
      "metadata": {},
      "source": [
        "### Basic DataFrame Operations\n",
        "\n",
        "Here are a few essential operations that show the power of DataFrames."
      ]
    },
    {
      "cell_type": "code",
      "execution_count": null,
      "metadata": {},
      "outputs": [],
      "source": [
        "# Get a summary of the data types and missing values\n",
        "df.info()"
      ]
    },
    {
      "cell_type": "code",
      "execution_count": null,
      "metadata": {},
      "outputs": [],
      "source": [
        "# Select a single column (this returns a pandas Series)\n",
        "ages = df['Age']\n",
        "print(ages)"
      ]
    },
    {
      "cell_type": "code",
      "execution_count": null,
      "metadata": {},
      "outputs": [],
      "source": [
        "# Select multiple columns\n",
        "customer_info = df[['FirstName', 'Age']]\n",
        "customer_info"
      ]
    },
    {
      "cell_type": "code",
      "execution_count": null,
      "metadata": {},
      "outputs": [],
      "source": [
        "# The real magic: Filtering data based on a condition\n",
        "# Find all customers older than 30\n",
        "seniors = df[df['Age'] > 30]\n",
        "seniors"
      ]
    },
    {
      "cell_type": "code",
      "execution_count": null,
      "metadata": {},
      "outputs": [],
      "source": [
        "# Another way to do the same thing using the .query() method\n",
        "df.query('Age > 30')"
      ]
    },
    {
      "cell_type": "markdown",
      "metadata": {},
      "source": [
        "## 🚀 Final Challenge: Data Analysis Task\n",
        "\n",
        "You've been given a small dataset of product sales. Your task is to perform a simple analysis.\n",
        "\n",
        "1.  Create a DataFrame from the data provided below.\n",
        "2.  Calculate a new column called `Revenue` which is `Price` * `UnitsSold`.\n",
        "3.  Find all sales where more than 10 units were sold.\n",
        "4.  Calculate the total revenue from all sales."
      ]
    },
    {
      "cell_type": "code",
      "execution_count": null,
      "metadata": {},
      "outputs": [],
      "source": [
        "# 1. Data for the challenge\n",
        "sales_data = {\n",
        "    'ProductID': ['A101', 'B202', 'C303', 'A101', 'D404'],\n",
        "    'Price': [10.0, 25.5, 5.75, 9.5, 15.0],\n",
        "    'UnitsSold': [15, 8, 20, 12, 6]\n",
        "}\n",
        "\n",
        "# Create the DataFrame\n",
        "sales_df = pd.DataFrame(sales_data)\n",
        "print(\"--- Initial DataFrame ---\")\n",
        "print(sales_df)\n",
        "\n",
        "# 2. Calculate the 'Revenue' column\n",
        "# Your code here\n",
        "\n",
        "\n",
        "# 3. Find all sales with more than 10 units sold\n",
        "# Your code here\n",
        "\n",
        "\n",
        "# 4. Calculate the total revenue\n",
        "# Hint: You can select the 'Revenue' column and use the .sum() method\n",
        "# total_revenue = sales_df['Revenue'].sum()\n",
        "# print(f\"\\nTotal Revenue: ${total_revenue:.2f}\")"
      ]
    }
  ],
  "metadata": {
    "kernelspec": {
      "display_name": "langcorn",
      "language": "python",
      "name": "python3"
    },
    "language_info": {
      "codemirror_mode": {
        "name": "ipython",
        "version": 3
      },
      "file_extension": ".py",
      "mimetype": "text/x-python",
      "name": "python",
      "nbconvert_exporter": "python",
      "pygments_lexer": "ipython3",
      "version": "3.11.5"
    }
  },
  "nbformat": 4,
  "nbformat_minor": 4
}
