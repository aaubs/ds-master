{
  "cells": [
    {
      "cell_type": "markdown",
      "metadata": {},
      "source": [
        "---\n",
        "title: \"From Python Basics to Pandas\"\n",
        "subtitle: \"Master's in Business Data Science, M1\"\n",
        "author: \"Roman Jurowetzki\"\n",
        "---\n",
        "\n",
        "## 🎯 Welcome Back! Let's Build Your Toolkit\n",
        "\n",
        "You've refreshed your knowledge of Python's fundamentals: variables, lists, dictionaries, and basic functions. Now, it's time to forge those building blocks into a powerful toolkit for data analysis.\n",
        "\n",
        "In this session, we'll bridge the gap between foundational Python and the world of professional data science. We'll master the logic of **flow control**—the loops and conditionals that let you process data systematically. Then, we'll transition to `pandas`, the single most important library for data manipulation in Python, and see how it supercharges these concepts.\n",
        "\n",
        "**Our Goal:** By the end of this session, you'll understand how to move from manually processing small collections of data in Python to efficiently analyzing large datasets with pandas.\n",
        "\n",
        "Let's get started!"
      ]
    },
    {
      "cell_type": "code",
      "execution_count": 1,
      "metadata": {},
      "outputs": [
        {
          "name": "stdout",
          "output_type": "stream",
          "text": [
            "Libraries imported successfully!\n"
          ]
        }
      ],
      "source": [
        "# Initial setup: Let's import the libraries we'll need.\n",
        "# pandas is the industry-standard for data manipulation.\n",
        "# numpy is its powerful companion for numerical operations.\n",
        "import pandas as pd\n",
        "import numpy as np\n",
        "\n",
        "print(\"Libraries imported successfully!\")"
      ]
    },
    {
      "cell_type": "markdown",
      "metadata": {},
      "source": [
        "---\n",
        "\n",
        "# Part 1: Python Flow Control Mastery (35 mins)\n",
        "\n",
        "Before we jump into specialized libraries, we need to master how to make Python \"think\" and \"repeat.\" This is the core of automation. We'll use a small sample of data representing Udemy courses to see these concepts in action."
      ]
    },
    {
      "cell_type": "code",
      "execution_count": 2,
      "metadata": {},
      "outputs": [],
      "source": [
        "# A small, Python-native dataset (a list of dictionaries)\n",
        "# This is how you might receive data from a web API.\n",
        "sample_courses = [\n",
        "    {'title': 'Python for Everybody', 'subject': 'Web Development', 'price': 0, 'subscribers': 1500000},\n",
        "    {'title': 'Machine Learning A-Z', 'subject': 'Business Finance', 'price': 200, 'subscribers': 1200000},\n",
        "    {'title': 'The Complete Web Developer Course 2.0', 'subject': 'Web Development', 'price': 200, 'subscribers': 1100000},\n",
        "    {'title': 'Learn Ethical Hacking From Scratch', 'subject': 'Web Development', 'price': 0, 'subscribers': 950000},\n",
        "    {'title': 'The Complete Financial Analyst Course', 'subject': 'Business Finance', 'price': 150, 'subscribers': 500000}\n",
        "]"
      ]
    },
    {
      "cell_type": "markdown",
      "metadata": {},
      "source": [
        "## 1.1 Loops for Data Processing (15 mins)\n",
        "\n",
        "Loops are your primary tool for performing an action on every item in a collection.\n",
        "\n",
        "### `for` Loops: The Workhorse\n",
        "\n",
        "Let's calculate the total number of subscribers for 'Web Development' courses."
      ]
    },
    {
      "cell_type": "code",
      "execution_count": 3,
      "metadata": {},
      "outputs": [
        {
          "name": "stdout",
          "output_type": "stream",
          "text": [
            "Total subscribers for Web Development courses: 3550000\n"
          ]
        }
      ],
      "source": [
        "# The classic approach with a for loop\n",
        "total_web_dev_subscribers = 0\n",
        "for course in sample_courses:\n",
        "    if course['subject'] == 'Web Development':\n",
        "        total_web_dev_subscribers += course['subscribers'] # shorthand for total = total + ...\n",
        "\n",
        "print(f\"Total subscribers for Web Development courses: {total_web_dev_subscribers}\")"
      ]
    },
    {
      "cell_type": "markdown",
      "metadata": {},
      "source": [
        "This works perfectly, but it takes a few lines of code. For simpler tasks, Python offers a more elegant solution.\n",
        "\n",
        "### List Comprehensions: The Pythonic Way\n",
        "\n",
        "List comprehensions are a concise way to create lists. They combine the loop and the item creation into a single, readable line.\n",
        "\n",
        "Let's create a list containing the titles of all free courses."
      ]
    },
    {
      "cell_type": "code",
      "execution_count": 4,
      "metadata": {},
      "outputs": [
        {
          "name": "stdout",
          "output_type": "stream",
          "text": [
            "Titles of free courses: ['Python for Everybody', 'Learn Ethical Hacking From Scratch']\n"
          ]
        }
      ],
      "source": [
        "# A list comprehension to filter and transform data\n",
        "free_course_titles = [course['title'] for course in sample_courses if course['price'] == 0]\n",
        "\n",
        "print(\"Titles of free courses:\", free_course_titles)"
      ]
    },
    {
      "cell_type": "markdown",
      "metadata": {},
      "source": [
        "::: {.callout-note}\n",
        "#### Readability vs. Performance\n",
        "List comprehensions are often faster than their equivalent `for` loops because they are optimized in Python's C backend. For simple filtering and transformation, they are the preferred method. For more complex logic, a standard `for` loop is often more readable.\n",
        ":::\n",
        "\n",
        "## 1.2 Conditionals and Logic (10 mins)\n",
        "\n",
        "Conditionals (`if`, `elif`, `else`) are the \"brains\" of your code. They allow you to execute different actions based on data, which is essential for filtering, categorizing, and cleaning.\n",
        "\n",
        "Let's categorize our courses into price tiers."
      ]
    },
    {
      "cell_type": "code",
      "execution_count": 5,
      "metadata": {},
      "outputs": [
        {
          "name": "stdout",
          "output_type": "stream",
          "text": [
            "\"Python for Everybody\" is in the \"Free\" category.\n",
            "\"Machine Learning A-Z\" is in the \"Premium\" category.\n",
            "\"The Complete Web Developer Course 2.0\" is in the \"Premium\" category.\n",
            "\"Learn Ethical Hacking From Scratch\" is in the \"Free\" category.\n",
            "\"The Complete Financial Analyst Course\" is in the \"Premium\" category.\n"
          ]
        }
      ],
      "source": [
        "# Use if/elif/else to create categories\n",
        "for course in sample_courses:\n",
        "    title = course['title']\n",
        "    price = course['price']\n",
        "\n",
        "    if price == 0:\n",
        "        category = 'Free'\n",
        "    elif 0 < price <= 100:\n",
        "        category = 'Affordable'\n",
        "    else: # price > 100\n",
        "        category = 'Premium'\n",
        "    \n",
        "    print(f'\"{title}\" is in the \"{category}\" category.')"
      ]
    },
    {
      "cell_type": "markdown",
      "metadata": {},
      "source": [
        "Notice how we combined a `for` loop with conditional logic to build a small processing pipeline. This pattern is fundamental in data science.\n",
        "\n",
        "## 1.3 Functions for Analysis (10 mins)\n",
        "\n",
        "Functions allow you to package reusable code. Instead of copying and pasting your logic, you define it once and call it whenever you need it. This makes your code cleaner, less error-prone, and easier to manage.\n",
        "\n",
        "Let's turn our price categorization logic into a function."
      ]
    },
    {
      "cell_type": "code",
      "execution_count": 7,
      "metadata": {},
      "outputs": [
        {
          "name": "stdout",
          "output_type": "stream",
          "text": [
            "\"Python for Everybody\" is: Free\n",
            "\"Machine Learning A-Z\" is: Premium\n",
            "\"The Complete Web Developer Course 2.0\" is: Premium\n",
            "\"Learn Ethical Hacking From Scratch\" is: Free\n",
            "\"The Complete Financial Analyst Course\" is: Premium\n"
          ]
        }
      ],
      "source": [
        "def categorize_price(price):\n",
        "    \"\"\"Categorizes a course price into a descriptive tier.\"\"\"\n",
        "    if not isinstance(price, (int, float)):\n",
        "        return 'Invalid Price' # Basic error handling\n",
        "    \n",
        "    if price == 0:\n",
        "        return 'Free'\n",
        "    elif 0 < price <= 100:\n",
        "        return 'Affordable'\n",
        "    else:\n",
        "        return 'Premium'\n",
        "\n",
        "# Now we can use our function inside the loop\n",
        "for course in sample_courses:\n",
        "    price_category = categorize_price(course['price'])\n",
        "    print(f'\"{course[\"title\"]}\" is: {price_category}')"
      ]
    },
    {
      "cell_type": "markdown",
      "metadata": {},
      "source": [
        "### Lambda Functions: Quick, Anonymous Functions\n",
        "\n",
        "Sometimes you need a simple function for a one-time use, like sorting or transforming data. `lambda` functions are perfect for this.\n",
        "\n",
        "Let's calculate the revenue for each course (`price` * `subscribers`)."
      ]
    },
    {
      "cell_type": "code",
      "execution_count": 8,
      "metadata": {},
      "outputs": [
        {
          "name": "stdout",
          "output_type": "stream",
          "text": [
            "\"Python for Everybody\" generated an estimated $0.\n",
            "\"Machine Learning A-Z\" generated an estimated $240,000,000.\n",
            "\"The Complete Web Developer Course 2.0\" generated an estimated $220,000,000.\n",
            "\"Learn Ethical Hacking From Scratch\" generated an estimated $0.\n",
            "\"The Complete Financial Analyst Course\" generated an estimated $75,000,000.\n"
          ]
        }
      ],
      "source": [
        "# A lambda function to calculate revenue\n",
        "calculate_revenue = lambda price, subscribers: price * subscribers\n",
        "\n",
        "# Using it in our loop\n",
        "for course in sample_courses:\n",
        "    revenue = calculate_revenue(course['price'], course['subscribers'])\n",
        "    print(f'\"{course[\"title\"]}\" generated an estimated ${revenue:,}.') # :, formats number with commas"
      ]
    },
    {
      "cell_type": "markdown",
      "metadata": {},
      "source": [
        "---\n",
        "\n",
        "# Part 2: Transition to Pandas (35 mins)\n",
        "\n",
        "Working with lists of dictionaries is great for learning, but it becomes slow and cumbersome with large datasets. Enter `pandas`. Pandas provides a high-performance, easy-to-use data structure called a **DataFrame**.\n",
        "\n",
        "Think of a DataFrame as a super-powered spreadsheet or a SQL table, right inside Python.\n",
        "\n",
        "## 2.1 From Python Collections to DataFrames (20 mins)\n",
        "\n",
        "Let's load the full Udemy dataset and see the pandas equivalent of what we just did."
      ]
    },
    {
      "cell_type": "code",
      "execution_count": 9,
      "metadata": {},
      "outputs": [],
      "source": [
        "# Load the dataset from a URL using pandas\n",
        "url = 'https://raw.githubusercontent.com/aaubs/ds-master/main/data/udemy_courses_info.csv'\n",
        "df = pd.read_csv(url)"
      ]
    },
    {
      "cell_type": "markdown",
      "metadata": {},
      "source": [
        "### First Look: `.head()`, `.info()`, `.describe()`\n",
        "\n",
        "Pandas gives you powerful tools to inspect your data instantly."
      ]
    },
    {
      "cell_type": "code",
      "execution_count": 10,
      "metadata": {},
      "outputs": [
        {
          "data": {
            "text/html": [
              "<div>\n",
              "<style scoped>\n",
              "    .dataframe tbody tr th:only-of-type {\n",
              "        vertical-align: middle;\n",
              "    }\n",
              "\n",
              "    .dataframe tbody tr th {\n",
              "        vertical-align: top;\n",
              "    }\n",
              "\n",
              "    .dataframe thead th {\n",
              "        text-align: right;\n",
              "    }\n",
              "</style>\n",
              "<table border=\"1\" class=\"dataframe\">\n",
              "  <thead>\n",
              "    <tr style=\"text-align: right;\">\n",
              "      <th></th>\n",
              "      <th>course_id</th>\n",
              "      <th>course_title</th>\n",
              "      <th>url</th>\n",
              "      <th>is_paid</th>\n",
              "      <th>price</th>\n",
              "      <th>num_subscribers</th>\n",
              "      <th>num_reviews</th>\n",
              "      <th>num_lectures</th>\n",
              "      <th>level</th>\n",
              "      <th>content_duration</th>\n",
              "      <th>subject</th>\n",
              "    </tr>\n",
              "  </thead>\n",
              "  <tbody>\n",
              "    <tr>\n",
              "      <th>0</th>\n",
              "      <td>1006314</td>\n",
              "      <td>Financial Modeling for Business Analysts and C...</td>\n",
              "      <td>https://www.udemy.com/financial-modeling-for-b...</td>\n",
              "      <td>True</td>\n",
              "      <td>45</td>\n",
              "      <td>2174</td>\n",
              "      <td>74.0</td>\n",
              "      <td>51.0</td>\n",
              "      <td>Intermediate Level</td>\n",
              "      <td>2.5</td>\n",
              "      <td>Business Finance</td>\n",
              "    </tr>\n",
              "    <tr>\n",
              "      <th>1</th>\n",
              "      <td>1011058</td>\n",
              "      <td>How To Maximize Your Profits Trading Options</td>\n",
              "      <td>https://www.udemy.com/how-to-maximize-your-pro...</td>\n",
              "      <td>True</td>\n",
              "      <td>200</td>\n",
              "      <td>1276</td>\n",
              "      <td>45.0</td>\n",
              "      <td>26.0</td>\n",
              "      <td>Intermediate Level</td>\n",
              "      <td>2.0</td>\n",
              "      <td>Business Finance</td>\n",
              "    </tr>\n",
              "    <tr>\n",
              "      <th>2</th>\n",
              "      <td>192870</td>\n",
              "      <td>Trading Penny Stocks: A Guide for All Levels I...</td>\n",
              "      <td>https://www.udemy.com/trading-penny-stocks-a-g...</td>\n",
              "      <td>True</td>\n",
              "      <td>150</td>\n",
              "      <td>9221</td>\n",
              "      <td>138.0</td>\n",
              "      <td>25.0</td>\n",
              "      <td>All Levels</td>\n",
              "      <td>3.0</td>\n",
              "      <td>Business Finance</td>\n",
              "    </tr>\n",
              "    <tr>\n",
              "      <th>3</th>\n",
              "      <td>739964</td>\n",
              "      <td>Investing And Trading For Beginners: Mastering...</td>\n",
              "      <td>https://www.udemy.com/investing-and-trading-fo...</td>\n",
              "      <td>True</td>\n",
              "      <td>65</td>\n",
              "      <td>1540</td>\n",
              "      <td>178.0</td>\n",
              "      <td>26.0</td>\n",
              "      <td>Beginner Level</td>\n",
              "      <td>1.0</td>\n",
              "      <td>Business Finance</td>\n",
              "    </tr>\n",
              "    <tr>\n",
              "      <th>4</th>\n",
              "      <td>403100</td>\n",
              "      <td>Trading Stock Chart Patterns For Immediate Exp...</td>\n",
              "      <td>https://www.udemy.com/trading-chart-patterns-f...</td>\n",
              "      <td>True</td>\n",
              "      <td>95</td>\n",
              "      <td>2917</td>\n",
              "      <td>148.0</td>\n",
              "      <td>23.0</td>\n",
              "      <td>All Levels</td>\n",
              "      <td>2.5</td>\n",
              "      <td>Business Finance</td>\n",
              "    </tr>\n",
              "  </tbody>\n",
              "</table>\n",
              "</div>"
            ],
            "text/plain": [
              "   course_id                                       course_title  \\\n",
              "0    1006314  Financial Modeling for Business Analysts and C...   \n",
              "1    1011058       How To Maximize Your Profits Trading Options   \n",
              "2     192870  Trading Penny Stocks: A Guide for All Levels I...   \n",
              "3     739964  Investing And Trading For Beginners: Mastering...   \n",
              "4     403100  Trading Stock Chart Patterns For Immediate Exp...   \n",
              "\n",
              "                                                 url  is_paid  price  \\\n",
              "0  https://www.udemy.com/financial-modeling-for-b...     True     45   \n",
              "1  https://www.udemy.com/how-to-maximize-your-pro...     True    200   \n",
              "2  https://www.udemy.com/trading-penny-stocks-a-g...     True    150   \n",
              "3  https://www.udemy.com/investing-and-trading-fo...     True     65   \n",
              "4  https://www.udemy.com/trading-chart-patterns-f...     True     95   \n",
              "\n",
              "   num_subscribers  num_reviews  num_lectures               level  \\\n",
              "0             2174         74.0          51.0  Intermediate Level   \n",
              "1             1276         45.0          26.0  Intermediate Level   \n",
              "2             9221        138.0          25.0          All Levels   \n",
              "3             1540        178.0          26.0      Beginner Level   \n",
              "4             2917        148.0          23.0          All Levels   \n",
              "\n",
              "   content_duration           subject  \n",
              "0               2.5  Business Finance  \n",
              "1               2.0  Business Finance  \n",
              "2               3.0  Business Finance  \n",
              "3               1.0  Business Finance  \n",
              "4               2.5  Business Finance  "
            ]
          },
          "execution_count": 10,
          "metadata": {},
          "output_type": "execute_result"
        }
      ],
      "source": [
        "# .head() shows the first 5 rows (like peeking at the top of a spreadsheet)\n",
        "df.head()"
      ]
    },
    {
      "cell_type": "code",
      "execution_count": 11,
      "metadata": {},
      "outputs": [
        {
          "name": "stdout",
          "output_type": "stream",
          "text": [
            "<class 'pandas.core.frame.DataFrame'>\n",
            "RangeIndex: 2959 entries, 0 to 2958\n",
            "Data columns (total 11 columns):\n",
            " #   Column            Non-Null Count  Dtype  \n",
            "---  ------            --------------  -----  \n",
            " 0   course_id         2959 non-null   int64  \n",
            " 1   course_title      2959 non-null   object \n",
            " 2   url               2959 non-null   object \n",
            " 3   is_paid           2959 non-null   bool   \n",
            " 4   price             2959 non-null   int64  \n",
            " 5   num_subscribers   2959 non-null   int64  \n",
            " 6   num_reviews       2802 non-null   float64\n",
            " 7   num_lectures      2880 non-null   float64\n",
            " 8   level             2959 non-null   object \n",
            " 9   content_duration  2880 non-null   float64\n",
            " 10  subject           2959 non-null   object \n",
            "dtypes: bool(1), float64(3), int64(3), object(4)\n",
            "memory usage: 234.2+ KB\n"
          ]
        }
      ],
      "source": [
        "# .info() gives a summary of columns, data types, and missing values\n",
        "df.info()"
      ]
    },
    {
      "cell_type": "code",
      "execution_count": 12,
      "metadata": {},
      "outputs": [
        {
          "data": {
            "text/html": [
              "<div>\n",
              "<style scoped>\n",
              "    .dataframe tbody tr th:only-of-type {\n",
              "        vertical-align: middle;\n",
              "    }\n",
              "\n",
              "    .dataframe tbody tr th {\n",
              "        vertical-align: top;\n",
              "    }\n",
              "\n",
              "    .dataframe thead th {\n",
              "        text-align: right;\n",
              "    }\n",
              "</style>\n",
              "<table border=\"1\" class=\"dataframe\">\n",
              "  <thead>\n",
              "    <tr style=\"text-align: right;\">\n",
              "      <th></th>\n",
              "      <th>course_id</th>\n",
              "      <th>price</th>\n",
              "      <th>num_subscribers</th>\n",
              "      <th>num_reviews</th>\n",
              "      <th>num_lectures</th>\n",
              "      <th>content_duration</th>\n",
              "    </tr>\n",
              "  </thead>\n",
              "  <tbody>\n",
              "    <tr>\n",
              "      <th>count</th>\n",
              "      <td>2.959000e+03</td>\n",
              "      <td>2959.000000</td>\n",
              "      <td>2959.000000</td>\n",
              "      <td>2802.000000</td>\n",
              "      <td>2880.000000</td>\n",
              "      <td>2880.000000</td>\n",
              "    </tr>\n",
              "    <tr>\n",
              "      <th>mean</th>\n",
              "      <td>5.678700e+05</td>\n",
              "      <td>63.773234</td>\n",
              "      <td>3625.175397</td>\n",
              "      <td>186.523555</td>\n",
              "      <td>41.042708</td>\n",
              "      <td>4.216314</td>\n",
              "    </tr>\n",
              "    <tr>\n",
              "      <th>std</th>\n",
              "      <td>2.864672e+05</td>\n",
              "      <td>59.121061</td>\n",
              "      <td>10448.724158</td>\n",
              "      <td>1064.627194</td>\n",
              "      <td>51.211810</td>\n",
              "      <td>6.265766</td>\n",
              "    </tr>\n",
              "    <tr>\n",
              "      <th>min</th>\n",
              "      <td>8.324000e+03</td>\n",
              "      <td>0.000000</td>\n",
              "      <td>0.000000</td>\n",
              "      <td>0.000000</td>\n",
              "      <td>0.000000</td>\n",
              "      <td>0.000000</td>\n",
              "    </tr>\n",
              "    <tr>\n",
              "      <th>25%</th>\n",
              "      <td>3.508680e+05</td>\n",
              "      <td>20.000000</td>\n",
              "      <td>165.000000</td>\n",
              "      <td>6.000000</td>\n",
              "      <td>15.000000</td>\n",
              "      <td>1.500000</td>\n",
              "    </tr>\n",
              "    <tr>\n",
              "      <th>50%</th>\n",
              "      <td>5.918800e+05</td>\n",
              "      <td>45.000000</td>\n",
              "      <td>1029.000000</td>\n",
              "      <td>23.000000</td>\n",
              "      <td>26.000000</td>\n",
              "      <td>2.500000</td>\n",
              "    </tr>\n",
              "    <tr>\n",
              "      <th>75%</th>\n",
              "      <td>8.066410e+05</td>\n",
              "      <td>95.000000</td>\n",
              "      <td>2814.000000</td>\n",
              "      <td>81.000000</td>\n",
              "      <td>46.000000</td>\n",
              "      <td>4.500000</td>\n",
              "    </tr>\n",
              "    <tr>\n",
              "      <th>max</th>\n",
              "      <td>1.053462e+06</td>\n",
              "      <td>200.000000</td>\n",
              "      <td>268923.000000</td>\n",
              "      <td>27445.000000</td>\n",
              "      <td>544.000000</td>\n",
              "      <td>78.500000</td>\n",
              "    </tr>\n",
              "  </tbody>\n",
              "</table>\n",
              "</div>"
            ],
            "text/plain": [
              "          course_id        price  num_subscribers   num_reviews  num_lectures  \\\n",
              "count  2.959000e+03  2959.000000      2959.000000   2802.000000   2880.000000   \n",
              "mean   5.678700e+05    63.773234      3625.175397    186.523555     41.042708   \n",
              "std    2.864672e+05    59.121061     10448.724158   1064.627194     51.211810   \n",
              "min    8.324000e+03     0.000000         0.000000      0.000000      0.000000   \n",
              "25%    3.508680e+05    20.000000       165.000000      6.000000     15.000000   \n",
              "50%    5.918800e+05    45.000000      1029.000000     23.000000     26.000000   \n",
              "75%    8.066410e+05    95.000000      2814.000000     81.000000     46.000000   \n",
              "max    1.053462e+06   200.000000    268923.000000  27445.000000    544.000000   \n",
              "\n",
              "       content_duration  \n",
              "count       2880.000000  \n",
              "mean           4.216314  \n",
              "std            6.265766  \n",
              "min            0.000000  \n",
              "25%            1.500000  \n",
              "50%            2.500000  \n",
              "75%            4.500000  \n",
              "max           78.500000  "
            ]
          },
          "execution_count": 12,
          "metadata": {},
          "output_type": "execute_result"
        }
      ],
      "source": [
        "# .describe() provides descriptive statistics for all numerical columns\n",
        "df.describe()"
      ]
    },
    {
      "cell_type": "markdown",
      "metadata": {},
      "source": [
        "### Column Selection and Filtering with Boolean Masks\n",
        "\n",
        "Remember how we used a list comprehension to find free courses? In pandas, this is even easier and more powerful using **boolean masking**."
      ]
    },
    {
      "cell_type": "code",
      "execution_count": 13,
      "metadata": {},
      "outputs": [
        {
          "name": "stdout",
          "output_type": "stream",
          "text": [
            "Boolean mask (first 5 values):\n",
            "0    False\n",
            "1    False\n",
            "2    False\n",
            "3    False\n",
            "4    False\n",
            "Name: price, dtype: bool\n",
            "\n",
            "--- All Free Courses ---\n"
          ]
        },
        {
          "data": {
            "text/html": [
              "<div>\n",
              "<style scoped>\n",
              "    .dataframe tbody tr th:only-of-type {\n",
              "        vertical-align: middle;\n",
              "    }\n",
              "\n",
              "    .dataframe tbody tr th {\n",
              "        vertical-align: top;\n",
              "    }\n",
              "\n",
              "    .dataframe thead th {\n",
              "        text-align: right;\n",
              "    }\n",
              "</style>\n",
              "<table border=\"1\" class=\"dataframe\">\n",
              "  <thead>\n",
              "    <tr style=\"text-align: right;\">\n",
              "      <th></th>\n",
              "      <th>course_id</th>\n",
              "      <th>course_title</th>\n",
              "      <th>url</th>\n",
              "      <th>is_paid</th>\n",
              "      <th>price</th>\n",
              "      <th>num_subscribers</th>\n",
              "      <th>num_reviews</th>\n",
              "      <th>num_lectures</th>\n",
              "      <th>level</th>\n",
              "      <th>content_duration</th>\n",
              "      <th>subject</th>\n",
              "    </tr>\n",
              "  </thead>\n",
              "  <tbody>\n",
              "    <tr>\n",
              "      <th>76</th>\n",
              "      <td>133536</td>\n",
              "      <td>Stock Market Investing for Beginners</td>\n",
              "      <td>https://www.udemy.com/the-beginners-guide-to-t...</td>\n",
              "      <td>False</td>\n",
              "      <td>0</td>\n",
              "      <td>50855</td>\n",
              "      <td>2698.0</td>\n",
              "      <td>15.0</td>\n",
              "      <td>Beginner Level</td>\n",
              "      <td>1.5</td>\n",
              "      <td>Business Finance</td>\n",
              "    </tr>\n",
              "    <tr>\n",
              "      <th>79</th>\n",
              "      <td>265960</td>\n",
              "      <td>Fundamentals of Forex Trading</td>\n",
              "      <td>https://www.udemy.com/fundamentals-of-forex-tr...</td>\n",
              "      <td>False</td>\n",
              "      <td>0</td>\n",
              "      <td>17160</td>\n",
              "      <td>620.0</td>\n",
              "      <td>23.0</td>\n",
              "      <td>All Levels</td>\n",
              "      <td>1.0</td>\n",
              "      <td>Business Finance</td>\n",
              "    </tr>\n",
              "    <tr>\n",
              "      <th>81</th>\n",
              "      <td>923616</td>\n",
              "      <td>Website Investing 101 - Buying &amp; Selling Onlin...</td>\n",
              "      <td>https://www.udemy.com/cash-flow-website-invest...</td>\n",
              "      <td>False</td>\n",
              "      <td>0</td>\n",
              "      <td>6811</td>\n",
              "      <td>151.0</td>\n",
              "      <td>51.0</td>\n",
              "      <td>All Levels</td>\n",
              "      <td>2.0</td>\n",
              "      <td>Business Finance</td>\n",
              "    </tr>\n",
              "    <tr>\n",
              "      <th>85</th>\n",
              "      <td>191854</td>\n",
              "      <td>Stock Market Foundations</td>\n",
              "      <td>https://www.udemy.com/how-to-invest-in-the-sto...</td>\n",
              "      <td>False</td>\n",
              "      <td>0</td>\n",
              "      <td>19339</td>\n",
              "      <td>794.0</td>\n",
              "      <td>9.0</td>\n",
              "      <td>Beginner Level</td>\n",
              "      <td>2.0</td>\n",
              "      <td>Business Finance</td>\n",
              "    </tr>\n",
              "    <tr>\n",
              "      <th>91</th>\n",
              "      <td>151668</td>\n",
              "      <td>Introduction to Financial Modeling</td>\n",
              "      <td>https://www.udemy.com/financial-modeling-asimp...</td>\n",
              "      <td>False</td>\n",
              "      <td>0</td>\n",
              "      <td>29167</td>\n",
              "      <td>1463.0</td>\n",
              "      <td>8.0</td>\n",
              "      <td>Intermediate Level</td>\n",
              "      <td>1.5</td>\n",
              "      <td>Business Finance</td>\n",
              "    </tr>\n",
              "  </tbody>\n",
              "</table>\n",
              "</div>"
            ],
            "text/plain": [
              "    course_id                                       course_title  \\\n",
              "76     133536               Stock Market Investing for Beginners   \n",
              "79     265960                      Fundamentals of Forex Trading   \n",
              "81     923616  Website Investing 101 - Buying & Selling Onlin...   \n",
              "85     191854                           Stock Market Foundations   \n",
              "91     151668                 Introduction to Financial Modeling   \n",
              "\n",
              "                                                  url  is_paid  price  \\\n",
              "76  https://www.udemy.com/the-beginners-guide-to-t...    False      0   \n",
              "79  https://www.udemy.com/fundamentals-of-forex-tr...    False      0   \n",
              "81  https://www.udemy.com/cash-flow-website-invest...    False      0   \n",
              "85  https://www.udemy.com/how-to-invest-in-the-sto...    False      0   \n",
              "91  https://www.udemy.com/financial-modeling-asimp...    False      0   \n",
              "\n",
              "    num_subscribers  num_reviews  num_lectures               level  \\\n",
              "76            50855       2698.0          15.0      Beginner Level   \n",
              "79            17160        620.0          23.0          All Levels   \n",
              "81             6811        151.0          51.0          All Levels   \n",
              "85            19339        794.0           9.0      Beginner Level   \n",
              "91            29167       1463.0           8.0  Intermediate Level   \n",
              "\n",
              "    content_duration           subject  \n",
              "76               1.5  Business Finance  \n",
              "79               1.0  Business Finance  \n",
              "81               2.0  Business Finance  \n",
              "85               2.0  Business Finance  \n",
              "91               1.5  Business Finance  "
            ]
          },
          "execution_count": 13,
          "metadata": {},
          "output_type": "execute_result"
        }
      ],
      "source": [
        "# Step 1: Create a boolean Series (a sequence of True/False values)\n",
        "is_free = df['price'] == 0\n",
        "print(\"Boolean mask (first 5 values):\")\n",
        "print(is_free.head())\n",
        "\n",
        "# Step 2: Use this mask to filter the DataFrame\n",
        "free_courses_df = df[is_free]\n",
        "\n",
        "print(\"\\n--- All Free Courses ---\")\n",
        "free_courses_df.head()"
      ]
    },
    {
      "cell_type": "markdown",
      "metadata": {},
      "source": [
        "::: {.callout-tip}\n",
        "#### The \"Pandas Bridge\"\n",
        "- **Python `for` loop + `if` condition** becomes **Pandas boolean mask `df[condition]`**.\n",
        "- This is one of the most important concepts in pandas. It is extremely efficient for filtering millions of rows.\n",
        ":::\n",
        "\n",
        "\n",
        "## 2.2 Pandas Operations in Action (15 mins)\n",
        "\n",
        "### Method Chaining\n",
        "\n",
        "One of the best features of pandas is the ability to \"chain\" operations together into a clean pipeline.\n",
        "\n",
        "Let's find the titles of the top 5 free 'Web Development' courses with the most subscribers."
      ]
    },
    {
      "cell_type": "code",
      "execution_count": 14,
      "metadata": {},
      "outputs": [
        {
          "name": "stdout",
          "output_type": "stream",
          "text": [
            "2252                 Learn HTML5 Programming From Scratch\n",
            "2422                       Coding for Entrepreneurs Basic\n",
            "2224    Build Your First Website in 1 Week with HTML5 ...\n",
            "2064    Web Design for Web Developers: Build Beautiful...\n",
            "2636    Practical PHP: Master the Basics and Code Dyna...\n",
            "Name: course_title, dtype: object\n"
          ]
        },
        {
          "name": "stderr",
          "output_type": "stream",
          "text": [
            "/var/folders/bk/84j_50tn7jdbflqw9b3p6sc80000gq/T/ipykernel_47478/2890168878.py:2: UserWarning: Boolean Series key will be reindexed to match DataFrame index.\n",
            "  df[df['price'] == 0]                      # 1. Filter for free courses\n"
          ]
        }
      ],
      "source": [
        "top_free_web_courses = (\n",
        "    df[df['price'] == 0]                      # 1. Filter for free courses\n",
        "    [df['subject'] == 'Web Development']      # 2. Filter for Web Development\n",
        "    .sort_values(by='num_subscribers', ascending=False) # 3. Sort by subscribers\n",
        "    .head(5)                                  # 4. Get the top 5\n",
        "    ['course_title']                          # 5. Select only the title column\n",
        ")\n",
        "\n",
        "print(top_free_web_courses)"
      ]
    },
    {
      "cell_type": "markdown",
      "metadata": {},
      "source": [
        "### Basic Aggregations: `.sum()`, `.mean()`, `.value_counts()`\n",
        "\n",
        "Pandas makes calculating summary statistics trivial."
      ]
    },
    {
      "cell_type": "code",
      "execution_count": 15,
      "metadata": {},
      "outputs": [
        {
          "name": "stdout",
          "output_type": "stream",
          "text": [
            "Course counts per subject:\n",
            "subject\n",
            "Web Development        976\n",
            "Business Finance       968\n",
            "Musical Instruments    568\n",
            "Graphic Design         447\n",
            "Name: count, dtype: int64\n"
          ]
        }
      ],
      "source": [
        "# How many courses are in each subject?\n",
        "subject_counts = df['subject'].value_counts()\n",
        "print(\"Course counts per subject:\")\n",
        "print(subject_counts)"
      ]
    },
    {
      "cell_type": "code",
      "execution_count": 16,
      "metadata": {},
      "outputs": [
        {
          "name": "stdout",
          "output_type": "stream",
          "text": [
            "\n",
            "Total subscribers: 10,726,894\n"
          ]
        }
      ],
      "source": [
        "# What is the total number of subscribers across all courses?\n",
        "total_subscribers = df['num_subscribers'].sum()\n",
        "print(f\"\\nTotal subscribers: {total_subscribers:,}\")"
      ]
    },
    {
      "cell_type": "markdown",
      "metadata": {},
      "source": [
        "### Grouping Data with `.groupby()`\n",
        "\n",
        "This is the super-power of pandas. `.groupby()` allows you to split your data into groups, apply a function to each group, and combine the results.\n",
        "\n",
        "Let's replicate our first Python `for` loop: calculate the total subscribers for each subject."
      ]
    },
    {
      "cell_type": "code",
      "execution_count": 17,
      "metadata": {},
      "outputs": [
        {
          "name": "stdout",
          "output_type": "stream",
          "text": [
            "subject\n",
            "Web Development        7301548\n",
            "Business Finance       1738412\n",
            "Graphic Design          907807\n",
            "Musical Instruments     779127\n",
            "Name: num_subscribers, dtype: int64\n"
          ]
        }
      ],
      "source": [
        "# Split-Apply-Combine with groupby\n",
        "subscribers_by_subject = df.groupby('subject')['num_subscribers'].sum().sort_values(ascending=False)\n",
        "\n",
        "print(subscribers_by_subject)"
      ]
    },
    {
      "cell_type": "markdown",
      "metadata": {},
      "source": [
        "In one line, pandas did the work of our multi-line Python loop, but on the entire dataset. This is the power of vectorized operations.\n",
        "\n",
        "### Handling Missing Data\n",
        "\n",
        "Real-world data is messy. `pandas` provides simple tools to find and handle missing values."
      ]
    },
    {
      "cell_type": "code",
      "execution_count": 18,
      "metadata": {},
      "outputs": [
        {
          "name": "stdout",
          "output_type": "stream",
          "text": [
            "Missing values per column:\n",
            "course_id             0\n",
            "course_title          0\n",
            "url                   0\n",
            "is_paid               0\n",
            "price                 0\n",
            "num_subscribers       0\n",
            "num_reviews         157\n",
            "num_lectures         79\n",
            "level                 0\n",
            "content_duration     79\n",
            "subject               0\n",
            "dtype: int64\n"
          ]
        }
      ],
      "source": [
        "# Check for missing values in each column\n",
        "print(\"Missing values per column:\")\n",
        "print(df.isnull().sum())"
      ]
    },
    {
      "cell_type": "markdown",
      "metadata": {},
      "source": [
        "We see no missing values in this clean dataset, but if there were, we could easily fill them: `df['column'].fillna('some_value', inplace=True)`.\n",
        "\n",
        "---\n",
        "\n",
        "# Part 3: Connecting the Dots (20 mins)\n",
        "\n",
        "Now let's bring everything together. How can we use our custom Python logic within the powerful pandas framework?\n",
        "\n",
        "## 3.1 Python Functions + Pandas with `.apply()`\n",
        "\n",
        "The `.apply()` method lets you run a custom function on every value in a pandas Series (a column). This is the perfect bridge between your Python skills and the pandas library.\n",
        "\n",
        "Let's use the `categorize_price` function we wrote earlier to create a new column in our DataFrame."
      ]
    },
    {
      "cell_type": "code",
      "execution_count": 19,
      "metadata": {},
      "outputs": [
        {
          "name": "stdout",
          "output_type": "stream",
          "text": [
            "New 'price_category' column created:\n"
          ]
        },
        {
          "data": {
            "text/html": [
              "<div>\n",
              "<style scoped>\n",
              "    .dataframe tbody tr th:only-of-type {\n",
              "        vertical-align: middle;\n",
              "    }\n",
              "\n",
              "    .dataframe tbody tr th {\n",
              "        vertical-align: top;\n",
              "    }\n",
              "\n",
              "    .dataframe thead th {\n",
              "        text-align: right;\n",
              "    }\n",
              "</style>\n",
              "<table border=\"1\" class=\"dataframe\">\n",
              "  <thead>\n",
              "    <tr style=\"text-align: right;\">\n",
              "      <th></th>\n",
              "      <th>course_title</th>\n",
              "      <th>price</th>\n",
              "      <th>price_category</th>\n",
              "    </tr>\n",
              "  </thead>\n",
              "  <tbody>\n",
              "    <tr>\n",
              "      <th>0</th>\n",
              "      <td>Financial Modeling for Business Analysts and C...</td>\n",
              "      <td>45</td>\n",
              "      <td>Affordable</td>\n",
              "    </tr>\n",
              "    <tr>\n",
              "      <th>1</th>\n",
              "      <td>How To Maximize Your Profits Trading Options</td>\n",
              "      <td>200</td>\n",
              "      <td>Premium</td>\n",
              "    </tr>\n",
              "    <tr>\n",
              "      <th>2</th>\n",
              "      <td>Trading Penny Stocks: A Guide for All Levels I...</td>\n",
              "      <td>150</td>\n",
              "      <td>Premium</td>\n",
              "    </tr>\n",
              "    <tr>\n",
              "      <th>3</th>\n",
              "      <td>Investing And Trading For Beginners: Mastering...</td>\n",
              "      <td>65</td>\n",
              "      <td>Affordable</td>\n",
              "    </tr>\n",
              "    <tr>\n",
              "      <th>4</th>\n",
              "      <td>Trading Stock Chart Patterns For Immediate Exp...</td>\n",
              "      <td>95</td>\n",
              "      <td>Affordable</td>\n",
              "    </tr>\n",
              "  </tbody>\n",
              "</table>\n",
              "</div>"
            ],
            "text/plain": [
              "                                        course_title  price price_category\n",
              "0  Financial Modeling for Business Analysts and C...     45     Affordable\n",
              "1       How To Maximize Your Profits Trading Options    200        Premium\n",
              "2  Trading Penny Stocks: A Guide for All Levels I...    150        Premium\n",
              "3  Investing And Trading For Beginners: Mastering...     65     Affordable\n",
              "4  Trading Stock Chart Patterns For Immediate Exp...     95     Affordable"
            ]
          },
          "execution_count": 19,
          "metadata": {},
          "output_type": "execute_result"
        }
      ],
      "source": [
        "# Reminder: here is our Python function from Part 1\n",
        "def categorize_price(price):\n",
        "    \"\"\"Categorizes a course price into a descriptive tier.\"\"\"\n",
        "    if not isinstance(price, (int, float)):\n",
        "        return 'Invalid Price'\n",
        "    if price == 0:\n",
        "        return 'Free'\n",
        "    elif 0 < price <= 100:\n",
        "        return 'Affordable'\n",
        "    else:\n",
        "        return 'Premium'\n",
        "\n",
        "# Use .apply() to run this function on the 'price' column\n",
        "df['price_category'] = df['price'].apply(categorize_price)\n",
        "\n",
        "# Check the result\n",
        "print(\"New 'price_category' column created:\")\n",
        "df[['course_title', 'price', 'price_category']].head()"
      ]
    },
    {
      "cell_type": "markdown",
      "metadata": {},
      "source": [
        "Now we can use this new categorical column in our analysis! For example, let's see the distribution of categories."
      ]
    },
    {
      "cell_type": "code",
      "execution_count": 21,
      "metadata": {},
      "outputs": [
        {
          "data": {
            "text/plain": [
              "price_category\n",
              "Affordable    2183\n",
              "Premium        544\n",
              "Free           232\n",
              "Name: count, dtype: int64"
            ]
          },
          "execution_count": 21,
          "metadata": {},
          "output_type": "execute_result"
        }
      ],
      "source": [
        "df['price_category'].value_counts()"
      ]
    },
    {
      "cell_type": "markdown",
      "metadata": {},
      "source": [
        "## 3.2 Practical Exercise (10 mins)\n",
        "\n",
        "Let's solve a business question using the skills we've learned.\n",
        "\n",
        "**Question:** Which subject has the highest *average number of subscribers* for courses at the 'Beginner Level'?\n",
        "\n",
        "This requires you to:\n",
        "1.  Filter the DataFrame for 'Beginner Level' courses.\n",
        "2.  Group the filtered data by `subject`.\n",
        "3.  Calculate the `mean` of `num_subscribers` for each group.\n",
        "4.  Find the subject with the highest average."
      ]
    },
    {
      "cell_type": "code",
      "execution_count": 22,
      "metadata": {},
      "outputs": [
        {
          "name": "stdout",
          "output_type": "stream",
          "text": [
            "Average subscribers for Beginner Level courses by subject:\n",
            "subject\n",
            "Web Development        7863.604651\n",
            "Business Finance       2330.957529\n",
            "Musical Instruments    1627.000000\n",
            "Graphic Design         1310.152941\n",
            "Name: num_subscribers, dtype: float64\n",
            "\n",
            "Answer: Web Development has the highest average of 7,864 subscribers for beginner courses.\n"
          ]
        }
      ],
      "source": [
        "# 🧠 Your Turn: Complete the code below!\n",
        "\n",
        "# 1. Filter for 'Beginner Level' courses\n",
        "beginner_courses = df[df['level'] == 'Beginner Level']\n",
        "\n",
        "# 2. Group by subject and calculate the mean of subscribers\n",
        "avg_subscribers_by_subject = beginner_courses.groupby('subject')['num_subscribers'].mean()\n",
        "\n",
        "# 3. Sort the results to find the highest\n",
        "sorted_avg_subscribers = avg_subscribers_by_subject.sort_values(ascending=False)\n",
        "\n",
        "print(\"Average subscribers for Beginner Level courses by subject:\")\n",
        "print(sorted_avg_subscribers)\n",
        "\n",
        "# 4. Get the top result programmatically\n",
        "top_subject = sorted_avg_subscribers.index[0]\n",
        "top_avg_value = sorted_avg_subscribers.iloc[0]\n",
        "\n",
        "print(f'\\nAnswer: {top_subject} has the highest average of {top_avg_value:,.0f} subscribers for beginner courses.')"
      ]
    },
    {
      "cell_type": "markdown",
      "metadata": {},
      "source": [
        "---\n",
        "\n",
        "# Take-Home Assignments\n",
        "\n",
        "Use the Udemy dataset (`df`) to complete the following exercises. These challenges will solidify your understanding and prepare you for more complex data tasks.\n",
        "\n",
        "### Assignment 1: Advanced Python Control Flow\n",
        "\n",
        "Write a Python function called `validate_course_data` that takes a single course dictionary (like one from our `sample_courses` list) as input.\n",
        "- It should check if `price` and `num_subscribers` are non-negative numbers.\n",
        "- It should check if `course_title` is a non-empty string.\n",
        "- If all checks pass, it should return `True`.\n",
        "- If any check fails, it should print an informative error message and return `False`.\n",
        "- Use a `try-except` block to handle cases where a key might be missing from the dictionary.\n",
        "\n",
        "### Assignment 2: Pandas Deep Dive\n",
        "\n",
        "Using the full `df` DataFrame, perform the following:\n",
        "1.  Find all courses that have \"Python\" in their title (hint: `df['course_title'].str.contains('Python', case=False)`).\n",
        "2.  From that result, filter for courses that are **not** free.\n",
        "3.  Calculate the average `num_reviews` for this specific subset of paid Python courses.\n",
        "4.  How many of these paid Python courses were published in 2017? (You'll need to work with the `published_timestamp` column. Hint: convert it to datetime `pd.to_datetime(df['published_timestamp'])` and then access the year with `.dt.year`).\n",
        "\n",
        "### Assignment 3: Integration Project\n",
        "\n",
        "1.  Write a Python function `get_revenue(row)` that takes a DataFrame row as input and returns the revenue (`price` * `num_subscribers`).\n",
        "2.  Apply this function to the DataFrame to create a new `revenue` column. Be sure to use `axis=1` in your `.apply()` call to pass rows to your function.\n",
        "3.  Using `.groupby()`, find the total revenue generated by each `level` ('Beginner Level', 'All Levels', etc.). Which level is the most profitable?\n",
        "\n",
        "### Assignment 4: Exploratory Data Analysis (EDA)\n",
        "\n",
        "You are a data analyst at Udemy. Your manager wants to know: **\"What factors contribute to a successful course?\"**\n",
        "\n",
        "Perform an exploratory analysis to answer this question. A \"successful\" course could be defined by high `num_subscribers`, high `num_reviews`, or high `revenue`.\n",
        "\n",
        "Your task:\n",
        "1.  Explore the relationships between different variables (e.g., `price` vs. `num_subscribers`, `subject` vs. `num_reviews`).\n",
        "2.  Use a combination of filtering, grouping, and aggregation to uncover insights.\n",
        "3.  Summarize your top **3 findings** in a markdown cell. For each finding, provide the pandas code you used to arrive at that conclusion. Your findings should be actionable business recommendations (e.g., \"Courses in Web Development have the highest subscriber engagement, suggesting we should invest more in this area.\")."
      ]
    }
  ],
  "metadata": {
    "kernelspec": {
      "display_name": "langcorn",
      "language": "python",
      "name": "python3"
    },
    "language_info": {
      "codemirror_mode": {
        "name": "ipython",
        "version": 3
      },
      "file_extension": ".py",
      "mimetype": "text/x-python",
      "name": "python",
      "nbconvert_exporter": "python",
      "pygments_lexer": "ipython3",
      "version": "3.11.5"
    }
  },
  "nbformat": 4,
  "nbformat_minor": 4
}
