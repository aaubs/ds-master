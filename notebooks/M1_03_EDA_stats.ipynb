{
  "cells": [
    {
      "cell_type": "markdown",
      "metadata": {},
      "source": [
        "---\n",
        "title: \"Exploratory Data Analysis & Applied Statistics: From Data to Insights\"\n",
        "subtitle: \"Master's in Business Data Science\"\n",
        "author: \"Roman Jurowetzki\"\n",
        "---\n",
        "\n",
        "## 🎯 Introduction: The Art of Asking Business Questions\n",
        "\n",
        "Welcome! You've mastered the mechanics of pandas. Now, we shift our focus from *how* to manipulate data to *why*. This session is about turning you into a \"business translator\"—someone who can convert raw data into a compelling story that drives decisions.\n",
        "\n",
        "Our goal is not to make you a statistician. It's to give you a framework for exploring data confidently, asking smart questions, and knowing when a pattern you've found is real versus just random noise.\n",
        "\n",
        "::: {.callout-important}\n",
        "#### 🎯 REALITY CHECK FOR BUSINESS STUDENTS\n",
        "\n",
        "❌ You **DON'T** need to memorize formulas.\n",
        "❌ You **DON'T** need to calculate by hand.\n",
        "❌ You **DON'T** need to become a statistician.\n",
        "\n",
        "✅ You **DO** need to ask the right business questions.\n",
        "✅ You **DO** need to interpret results for a business audience.\n",
        "✅ You **DO** need to know when a pattern is trustworthy.\n",
        "\n",
        "**Your job is to be a business translator, not a math wizard!**\n",
        ":::\n",
        "\n",
        "**Our Guiding Problem:** We'll work with an HR dataset for a Danish tech company. Management is concerned about employee turnover and wants to understand the key drivers of satisfaction and performance. Our mission is to provide them with clear, data-backed insights.\n",
        "\n",
        "::: {.callout-note}\n",
        "#### Pacing Guide\n",
        "This notebook is designed for a 150-minute interactive session (fitting within a 4x45 minute block structure with breaks). If you are working through it on your own, take your time to experiment with the code and reflect on the interpretation of each output. The goal is understanding, not speed.\n",
        ":::\n",
        "\n",
        "### Notebook Setup\n",
        "\n",
        "First, let's import our tools and generate a more realistic dataset. Notice how we're now intentionally creating relationships between variables to make our analysis more interesting."
      ]
    },
    {
      "cell_type": "code",
      "execution_count": null,
      "metadata": {},
      "outputs": [],
      "source": [
        "# Standard imports for analysis and visualization\n",
        "import pandas as pd\n",
        "import numpy as np\n",
        "import matplotlib.pyplot as plt\n",
        "import seaborn as sns\n",
        "from scipy import stats\n",
        "\n",
        "# Set a professional plot style\n",
        "sns.set_theme(style=\"whitegrid\", palette=\"viridis\")"
      ]
    },
    {
      "cell_type": "code",
      "execution_count": null,
      "metadata": {},
      "outputs": [],
      "source": [
        "# --- ADVANCED DATA GENERATION TO CREATE REALISTIC CORRELATIONS ---\n",
        "np.random.seed(42)\n",
        "n_employees = 500\n",
        "\n",
        "# Define the base characteristics and their relationships (correlation matrix)\n",
        "means = [3.5, 0.7, 5, 200, 6, 600000] # satisfaction, evaluation, projects, hours, tenure, salary_base\n",
        "stds = [0.8, 0.15, 1.5, 40, 2.5, 150000]\n",
        "corr_matrix = [\n",
        "    [1.0, 0.2, 0.1, -0.55, -0.1, 0.0],  # satisfaction\n",
        "    [0.2, 1.0, 0.80, 0.3, 0.1, 0.2],   # evaluation\n",
        "    [0.1, 0.80, 1.0, 0.2, 0.0, 0.1],   # projects\n",
        "    [-0.55, 0.3, 0.2, 1.0, 0.0, 0.1],   # hours\n",
        "    [-0.1, 0.1, 0.0, 0.0, 1.0, 0.88],  # tenure\n",
        "    [0.0, 0.2, 0.1, 0.1, 0.88, 1.0]    # salary_base\n",
        "]\n",
        "\n",
        "# Create a covariance matrix\n",
        "cov_matrix = np.outer(stds, stds) * corr_matrix\n",
        "\n",
        "# Generate the core numerical data\n",
        "numerical_data = np.random.multivariate_normal(means, cov_matrix, size=n_employees)\n",
        "\n",
        "# Create the DataFrame\n",
        "df = pd.DataFrame(numerical_data, columns=[\n",
        "    'satisfaction_score', 'last_evaluation', 'projects_completed',\n",
        "    'avg_monthly_hours', 'tenure_years', 'annual_salary_dkk'\n",
        "])\n",
        "\n",
        "# Clip data to realistic ranges and set data types\n",
        "df['satisfaction_score'] = df['satisfaction_score'].clip(1, 5)\n",
        "df['last_evaluation'] = df['last_evaluation'].clip(0, 1)\n",
        "df['projects_completed'] = df['projects_completed'].clip(2, 8).astype(int)\n",
        "df['avg_monthly_hours'] = df['avg_monthly_hours'].clip(100, 300).astype(int)\n",
        "df['tenure_years'] = df['tenure_years'].clip(2, 11).astype(int)\n",
        "df['annual_salary_dkk'] = df['annual_salary_dkk'].clip(300000)\n",
        "\n",
        "# Add categorical and ID columns\n",
        "df['employee_id'] = range(1, n_employees + 1)\n",
        "df['department'] = np.random.choice(['Engineering', 'Sales', 'Marketing', 'HR'], n_employees, p=[0.4, 0.3, 0.2, 0.1])\n",
        "df['attrition'] = np.random.choice([0, 1], n_employees, p=[0.85, 0.15])\n",
        "\n",
        "# Introduce some realistic business logic and data issues\n",
        "df.loc[df['department'] == 'Engineering', 'annual_salary_dkk'] *= 1.3\n",
        "df.loc[df['department'] == 'Sales', 'satisfaction_score'] *= 0.85 # Intentionally create a difference for ANOVA\n",
        "df.loc[df.sample(frac=0.05, random_state=1).index, 'satisfaction_score'] = np.nan\n",
        "# Ensure the outlier is in the Engineering department\n",
        "eng_indices = df[df['department'] == 'Engineering'].index\n",
        "if len(eng_indices) > 0:\n",
        "    outlier_index = np.random.choice(eng_indices)\n",
        "    df.loc[outlier_index, 'annual_salary_dkk'] = 2500000 # Outlier in DKK\n",
        "\n",
        "print(\"HR Analytics dataset (DKK) with realistic correlations created successfully!\")"
      ]
    },
    {
      "cell_type": "markdown",
      "metadata": {},
      "source": [
        "---\n",
        "\n",
        "# Part 1: Your Systematic Exploration Framework (30 mins)\n",
        "\n",
        "Professional analysis isn't random; it's a systematic funnel. We start broad and get progressively narrower. Let's use a simple five-question framework.\n",
        "\n",
        "::: {.callout-note}\n",
        "### 📋 YOUR EDA CHECKLIST - PRINT THIS OUT!\n",
        "\n",
        "**DATA QUALITY CHECK**\n",
        "□ **1. SHAPE:** How big is the data? (`df.shape`, `df.info()`)\n",
        "□ **2. MISSING:** Where are the gaps? (`df.isnull().sum()`)\n",
        "□ **3. OUTLIERS:** Any weird values? (`df.describe()`, `sns.boxplot()`)\n",
        "□ **4. CATEGORIES:** What groups exist? (`df['column'].value_counts()`)\n",
        "\n",
        "**BUSINESS INSIGHTS CHECK**\n",
        "□ **5. RELATIONSHIPS:** How do things connect? (`df.corr()`, `sns.heatmap()`, `sns.boxplot()`)\n",
        "\n",
        "**P-VALUE TRANSLATION GUIDE**\n",
        "*   `p < 0.05` → \"**This pattern is likely REAL.** It's not just random chance.\"\n",
        "*   `p > 0.05` → \"**This pattern could be FAKE.** We can't be sure it's not just random noise.\"\n",
        ":::\n",
        "\n",
        "## 1.1 First Look: Shape & Structure"
      ]
    },
    {
      "cell_type": "code",
      "execution_count": null,
      "metadata": {},
      "outputs": [],
      "source": [
        "# ✅ 1. SHAPE: How big is the data?\n",
        "print(\"Dataset Shape:\", df.shape)\n",
        "print(\"\\nDataset Info:\")\n",
        "df.info()"
      ]
    },
    {
      "cell_type": "markdown",
      "metadata": {},
      "source": [
        "We have 500 employees, 9 features. `satisfaction_score` has missing values.\n",
        "\n",
        "## 1.2 Data Quality Check: Missing Values & Outliers\n",
        "\n",
        "#### ✅ 2. MISSING: Where are the gaps?"
      ]
    },
    {
      "cell_type": "code",
      "execution_count": null,
      "metadata": {},
      "outputs": [],
      "source": [
        "print(\"Missing values per column:\\n\", df.isnull().sum())"
      ]
    },
    {
      "cell_type": "markdown",
      "metadata": {},
      "source": [
        "`satisfaction_score` has 25 missing values. We'll proceed, but in a real project, this requires a clear handling strategy.\n",
        "\n",
        "#### ✅ 3. OUTLIERS: Anything weird?"
      ]
    },
    {
      "cell_type": "code",
      "execution_count": null,
      "metadata": {},
      "outputs": [],
      "source": [
        "# Use style.format to make the large numbers readable\n",
        "df.describe().style.format(\"{:,.2f}\")"
      ]
    },
    {
      "cell_type": "markdown",
      "metadata": {},
      "source": [
        "The `max` salary of 2,500,000 DKK is a huge outlier compared to the 75th percentile of ~770k DKK. Let's visualize it."
      ]
    },
    {
      "cell_type": "code",
      "execution_count": null,
      "metadata": {},
      "outputs": [],
      "source": [
        "plt.figure(figsize=(10, 6))\n",
        "sns.boxplot(x=df['annual_salary_dkk'])\n",
        "plt.title('Salary Distribution - Spot the Outlier!', fontsize=16)\n",
        "plt.xlabel('Annual Salary (DKK)')\n",
        "plt.show()"
      ]
    },
    {
      "cell_type": "markdown",
      "metadata": {},
      "source": [
        "The boxplot confirms a significant outlier that will skew any analysis based on averages. In a full analysis, our next step would be to investigate this outlier. Is it a data entry error? Or is it a C-level executive? How we handle it (keep, remove, or cap it) depends on the answer and would significantly impact analyses based on averages.\n",
        "\n",
        "#### ✅ 4. CATEGORIES: What groups exist?"
      ]
    },
    {
      "cell_type": "code",
      "execution_count": null,
      "metadata": {},
      "outputs": [],
      "source": [
        "df['department'].value_counts()"
      ]
    },
    {
      "cell_type": "markdown",
      "metadata": {},
      "source": [
        "Engineering is the largest department. HR is very small, so findings for this group should be treated with caution.\n",
        "\n",
        "## 1.3 Business Insights: How Do Things Connect?\n",
        "\n",
        "#### ✅ 5. RELATIONSHIPS: How do things connect?\n",
        "A correlation matrix is the best starting point for numerical variables.\n",
        "\n",
        "::: {.callout-tip}\n",
        "#### Rule of Thumb: Interpreting Correlation Strength\n",
        "- **0.0 - 0.3 (or -0.3):** Weak relationship.\n",
        "- **0.3 - 0.6 (or -0.6):** Moderate relationship.\n",
        "- **0.6+ (or -0.6+):** Strong relationship.\n",
        ":::"
      ]
    },
    {
      "cell_type": "code",
      "execution_count": null,
      "metadata": {},
      "outputs": [],
      "source": [
        "numerical_features = ['satisfaction_score', 'last_evaluation', 'projects_completed', 'avg_monthly_hours', 'tenure_years', 'annual_salary_dkk']\n",
        "corr_matrix = df[numerical_features].corr()\n",
        "\n",
        "plt.figure(figsize=(10, 8))\n",
        "sns.heatmap(corr_matrix, annot=True, cmap='coolwarm', fmt='.2f', linewidths=.5)\n",
        "plt.title('Correlation Matrix of Key Numerical Features', fontsize=16)\n",
        "plt.show()"
      ]
    },
    {
      "cell_type": "markdown",
      "metadata": {},
      "source": [
        "**Key initial findings:**\n",
        "*   **`tenure_years` & `annual_salary_dkk` (0.67):** Strong positive correlation. Loyalty is rewarded.\n",
        "*   **`avg_monthly_hours` & `satisfaction_score` (-0.64):** Moderate negative correlation. Suggests a burnout effect.\n",
        "*   **`projects_completed` & `last_evaluation` (0.77):** Strong positive correlation. High performers complete more projects.\n",
        "\n",
        "---\n",
        "\n",
        "# Part 2: Statistical Storytelling with Visuals (15 mins)\n",
        "\n",
        "Let's use visuals to investigate specific business questions.\n",
        "\n",
        "### Business Question 1: \"Are some departments paid more than others?\""
      ]
    },
    {
      "cell_type": "code",
      "execution_count": null,
      "metadata": {},
      "outputs": [],
      "source": [
        "plt.figure(figsize=(12, 7))\n",
        "sns.boxplot(data=df, x='department', y='annual_salary_dkk')\n",
        "plt.title('Salary Distribution by Department', fontsize=16)\n",
        "plt.ylabel('Annual Salary (DKK)')\n",
        "plt.xlabel('Department')\n",
        "plt.gca().get_yaxis().set_major_formatter(plt.FuncFormatter(lambda x, p: format(int(x), ',')))\n",
        "plt.show()"
      ]
    },
    {
      "cell_type": "markdown",
      "metadata": {},
      "source": [
        "The visual story is clear: Engineering salaries are structurally higher than other departments. Sales is next, followed by Marketing and HR. The outlier we found earlier is confirmed to be in the Engineering department.\n",
        "\n",
        "---\n",
        "\n",
        "# Part 3: Is It Real or Just Random? Your Statistical Toolkit (45 mins)\n",
        "\n",
        "Our chart shows a difference. But is it \"statistically significant,\" or a fluke? Statistical tests give us the answer.\n",
        "\n",
        "### 3.1 Your Mental Model for Choosing a Test\n",
        "\n",
        "::: {.callout-tip}\n",
        "### Which Test Do I Use? A Simple Guide\n",
        "\n",
        "*   🤔 **My Question:** \"Am I comparing **averages** between **2 groups**?\"\n",
        "    *   👉 **Your Tool:** **T-test** (e.g., Average salary of Sales vs. Engineering)\n",
        "\n",
        "*   🤔 **My Question:** \"Am I comparing **averages** between **3+ groups**?\"\n",
        "    *   👉 **Your Tool:** **ANOVA** (e.g., Average satisfaction across all 4 departments)\n",
        "\n",
        "*   🤔 **My Question:** \"Am I looking for a relationship between **categories**?\"\n",
        "    *   👉 **Your Tool:** **Chi-Square Test** (e.g., Does department relate to attrition?)\n",
        "\n",
        "*   🤔 **My Question:** \"Are two **numbers** moving together?\"\n",
        "    *   👉 **Your Tool:** **Correlation Test** (e.g., Do hours worked go up with salary?)\n",
        ":::\n",
        "\n",
        "### 3.2 The T-Test: Comparing Averages Between Two Groups\n",
        "\n",
        "**Business Question:** \"Our chart shows a salary gap between Engineering and Sales. Is that gap real, or could it be random chance?\""
      ]
    },
    {
      "cell_type": "code",
      "execution_count": null,
      "metadata": {},
      "outputs": [],
      "source": [
        "# 1. Isolate the data for the two groups\n",
        "salary_eng = df[df['department'] == 'Engineering']['annual_salary_dkk'].dropna()\n",
        "salary_sales = df[df['department'] == 'Sales']['annual_salary_dkk'].dropna()\n",
        "\n",
        "print(f\"Engineering average salary: {salary_eng.mean():,.0f} DKK\")\n",
        "print(f\"Sales average salary:     {salary_sales.mean():,.0f} DKK\")\n",
        "\n",
        "# 2. Run the test (the computer does the math)\n",
        "t_stat, p_value = stats.ttest_ind(salary_eng, salary_sales, equal_var=False) # Welch's T-test; safer assumption when group sizes/variances might differ.\n",
        "\n",
        "# 3. Translate the results into plain English\n",
        "print(f\"\\nThe P-value is: {p_value:.6f}\")\n",
        "\n",
        "if p_value < 0.05:\n",
        "    print(\"\\n✅ Conclusion: The difference is REAL and statistically significant.\")\n",
        "else:\n",
        "    print(\"\\n❌ Conclusion: The difference could be FAKE. We can't be sure it's not just random noise.\")"
      ]
    },
    {
      "cell_type": "markdown",
      "metadata": {},
      "source": [
        "### 3.3 The ANOVA Test: Comparing Averages Across Multiple Groups\n",
        "\n",
        "What if we want to compare all four departments at once?\n",
        "\n",
        "**Business Question:** \"Is there a statistically significant difference in employee satisfaction scores across *any* of our departments?\""
      ]
    },
    {
      "cell_type": "code",
      "execution_count": null,
      "metadata": {},
      "outputs": [],
      "source": [
        "# 1. Visualize First! This helps form our hypothesis.\n",
        "plt.figure(figsize=(12, 7))\n",
        "sns.boxplot(data=df, x='department', y='satisfaction_score')\n",
        "plt.title('Satisfaction Score by Department', fontsize=16)\n",
        "plt.ylabel('Satisfaction Score (1-5)')\n",
        "plt.xlabel('Department')\n",
        "plt.show()"
      ]
    },
    {
      "cell_type": "markdown",
      "metadata": {},
      "source": [
        "The boxplot suggests that the Sales department has a lower median satisfaction score. But is this difference significant when considering all four departments? ANOVA can tell us."
      ]
    },
    {
      "cell_type": "code",
      "execution_count": null,
      "metadata": {},
      "outputs": [],
      "source": [
        "# 2. Isolate the data for all groups\n",
        "satisfaction_eng = df[df['department'] == 'Engineering']['satisfaction_score'].dropna()\n",
        "satisfaction_sales = df[df['department'] == 'Sales']['satisfaction_score'].dropna()\n",
        "satisfaction_mktg = df[df['department'] == 'Marketing']['satisfaction_score'].dropna()\n",
        "satisfaction_hr = df[df['department'] == 'HR']['satisfaction_score'].dropna()\n",
        "\n",
        "# 3. Run the test\n",
        "f_stat, p_value = stats.f_oneway(satisfaction_eng, satisfaction_sales, satisfaction_mktg, satisfaction_hr)\n",
        "\n",
        "# 4. Translate the results\n",
        "print(f\"The P-value is: {p_value:.6f}\")\n",
        "\n",
        "if p_value < 0.05:\n",
        "    conclusion = \"✅ Yes, there is a statistically significant difference in satisfaction scores between at least two of the departments.\"\n",
        "    explanation = \"The variation between department averages is large enough that it's unlikely to be due to random chance.\"\n",
        "else:\n",
        "    conclusion = \"❌ No, we cannot conclude there's a significant difference in satisfaction scores across departments.\"\n",
        "    explanation = \"Any differences we see in the chart could just be random noise.\"\n",
        "\n",
        "print(\"\\nTranslation:\")\n",
        "print(explanation)\n",
        "print(\"\\nConclusion:\")\n",
        "print(conclusion)"
      ]
    },
    {
      "cell_type": "markdown",
      "metadata": {},
      "source": [
        "**Key Takeaway:** The ANOVA test confirms what our eyes suspected from the boxplot. A p-value close to zero means we can be confident that the departmental differences in satisfaction are real.\n",
        "\n",
        "### 3.4 The Chi-Square Test: Finding Relationships in Categories\n",
        "\n",
        "Now let's switch from numbers (like salary) to categories.\n",
        "\n",
        "**Business Question:** \"Are employees in certain departments more likely to leave the company (attrition) than others?\""
      ]
    },
    {
      "cell_type": "code",
      "execution_count": null,
      "metadata": {},
      "outputs": [],
      "source": [
        "# 1. Prepare the data: Create a contingency table (crosstab)\n",
        "contingency_table = pd.crosstab(df['department'], df['attrition'])\n",
        "print(\"Count of employees who stayed (0) vs. left (1) by Department:\")\n",
        "print(contingency_table)\n",
        "\n",
        "# 2. Visualize: A normalized bar chart is best for comparing proportions\n",
        "contingency_table.div(contingency_table.sum(axis=1), axis=0).plot(kind='bar', stacked=True, figsize=(12, 7))\n",
        "plt.title('Attrition Rate by Department', fontsize=16)\n",
        "plt.ylabel('Proportion of Employees')\n",
        "plt.xlabel('Department')\n",
        "plt.xticks(rotation=0)\n",
        "plt.legend(title='Attrition', labels=['Stayed', 'Left'])\n",
        "plt.show()"
      ]
    },
    {
      "cell_type": "markdown",
      "metadata": {},
      "source": [
        "The chart seems to show a higher proportion of employees leaving from Sales and Marketing compared to Engineering and HR. Is this association statistically significant?"
      ]
    },
    {
      "cell_type": "code",
      "execution_count": null,
      "metadata": {},
      "outputs": [],
      "source": [
        "# 3. Run the test\n",
        "chi2, p_value, dof, expected = stats.chi2_contingency(contingency_table)\n",
        "\n",
        "# 4. Translate the results\n",
        "print(f\"The P-value is: {p_value:.4f}\")\n",
        "\n",
        "if p_value < 0.05:\n",
        "    conclusion = \"✅ Yes, there is a statistically significant association between an employee's department and whether they leave the company.\"\n",
        "    explanation = \"The department an employee works in appears to be related to their likelihood of attrition.\"\n",
        "else:\n",
        "    conclusion = \"❌ No, we cannot conclude there's a significant association.\"\n",
        "    explanation = \"Based on this data, department and attrition appear to be independent. Any pattern in the chart could be random.\"\n",
        "\n",
        "print(\"\\nTranslation:\")\n",
        "print(explanation)\n",
        "print(\"\\nConclusion:\")\n",
        "print(conclusion)"
      ]
    },
    {
      "cell_type": "markdown",
      "metadata": {},
      "source": [
        "::: {.callout-important}\n",
        "#### Statistically Significant vs. Business Significant\n",
        "Imagine our t-test found a statistically significant (p < 0.05) salary difference of **1,500 DKK per year**.\n",
        "\n",
        "- **Is it real?** Statistically, yes. The pattern is not random.\n",
        "- **Does it matter?** From a business perspective, probably not. A difference that small might not affect morale, and a company-wide initiative to \"fix\" it would be a waste of resources.\n",
        "\n",
        "**Your job is to find things that are BOTH statistically real AND matter to the business.**\n",
        ":::\n",
        "\n",
        "::: {.callout-warning}\n",
        "### ⚠️ Common Pitfalls to Avoid\n",
        "\n",
        "- **Correlation ≠ Causation:** Just because tenure and salary are correlated doesn't mean staying longer *causes* a higher salary. A promotion (a factor we don't have) could be the true cause.\n",
        "- **Sample Size Matters:** Our HR department is small. Any finding there is less reliable than a finding for the large Engineering department.\n",
        "- **The Multiple Testing Problem:** If you run 20 tests, one of them will likely be \"significant\" (p < 0.05) by pure random luck. Test clear business questions, don't just hunt for low p-values.\n",
        ":::\n",
        "\n",
        "---\n",
        "\n",
        "# Part 4: Building the Business Presentation (30 mins)\n",
        "\n",
        "## 🚀 Your Turn: Building a Business Case with Data (In-Class Practice)\n",
        "\n",
        "**Your Mission:** You are a data scientist at the company. Management is concerned about **employee burnout** and its impact on satisfaction and retention. Your manager has asked you to investigate: **\"Is there evidence that overworked employees are less satisfied and more likely to leave?\"**\n",
        "\n",
        "Work in pairs. Your goal is to prepare a 2-minute presentation for management based on your findings. Use the \"Which Test Do I Use?\" guide to help you.\n",
        "\n",
        "### Your Analysis Must Include:\n",
        "\n",
        "1.  **Hypothesis 1 (Correlation):** Is there a relationship between `avg_monthly_hours` and `satisfaction_score`?\n",
        "    *   **Visualize:** Create a scatter plot with a regression line (`sns.regplot`).\n",
        "    *   **Test:** Run a Pearson correlation test (`stats.pearsonr`).\n",
        "    *   **Translate:** Explain the result in plain English.\n",
        "Hint: Remember that satisfaction_score has missing values. How will you handle them before running the correlation test?\"\n",
        "2.  **Hypothesis 2 (T-Test):** Do employees who leave the company (`attrition` = 1) work more hours on average than those who stay?\n",
        "    *   **Visualize:** Create a boxplot comparing `avg_monthly_hours` for the two `attrition` groups.\n",
        "    *   **Test:** Run a T-test.\n",
        "    *   **Translate:** Explain the result in plain English.\n",
        "\n",
        "3.  **Business Recommendation:** Based on your findings, what is your **one key takeaway** for management? Propose **one concrete action** they could take.\n",
        "\n",
        "----"
      ]
    },
    {
      "cell_type": "markdown",
      "metadata": {},
      "source": []
    }
  ],
  "metadata": {
    "kernelspec": {
      "display_name": "Python 3 (ipykernel)",
      "language": "python",
      "name": "python3",
      "path": "/opt/miniconda3/share/jupyter/kernels/python3"
    }
  },
  "nbformat": 4,
  "nbformat_minor": 4
}
